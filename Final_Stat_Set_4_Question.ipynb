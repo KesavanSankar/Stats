{
 "cells": [
  {
   "cell_type": "markdown",
   "metadata": {},
   "source": [
    "<table align=\"right\" width=30%>\n",
    "    <tr>\n",
    "        <td align='right' width=\"10%\">\n",
    "            <img src=\"GL-2.png\">\n",
    "        </td>\n",
    "     </tr>"
   ]
  },
  {
   "cell_type": "markdown",
   "metadata": {},
   "source": [
    "# STATISTICS EXAM EXAM"
   ]
  },
  {
   "cell_type": "markdown",
   "metadata": {},
   "source": [
    "### TOTAL MARKS:70 \n",
    "\n",
    "### DURATION: 3 HOURS"
   ]
  },
  {
   "cell_type": "markdown",
   "metadata": {},
   "source": [
    "# SECTION A: 20 MARKS"
   ]
  },
  {
   "cell_type": "markdown",
   "metadata": {},
   "source": [
    "_________________"
   ]
  },
  {
   "cell_type": "markdown",
   "metadata": {},
   "source": [
    "### 1. A casino has a game called \"Dice-Die\". A dice has 4 Red surfaces and two black surfaces.A red top surface will lead to winning. A person makes 18 rolls.Find out the following probabilities. (Marks 5)\n",
    "\n",
    "\n",
    "a. What is the probability that the person won 50% of the rolls?            (Marks 1)\n",
    "\n",
    "b. What is the probability that the person won from 20% to 60% of the rolls?      (Marks 2)\n",
    "\n",
    "c. What is the probability that the person won atmost 80% of the rolls?     (Marks 2)\n",
    "\n",
    "#### Note: Round the random variables"
   ]
  },
  {
   "cell_type": "code",
   "execution_count": 6,
   "metadata": {},
   "outputs": [],
   "source": [
    "from scipy import stats"
   ]
  },
  {
   "cell_type": "code",
   "execution_count": 13,
   "metadata": {},
   "outputs": [
    {
     "data": {
      "text/plain": [
       "0.06425431980702508"
      ]
     },
     "execution_count": 13,
     "metadata": {},
     "output_type": "execute_result"
    }
   ],
   "source": [
    "p = 4/6\n",
    "r = round(18*0.5)\n",
    "n = 18\n",
    "stats.binom.pmf(r,n,p)"
   ]
  },
  {
   "cell_type": "code",
   "execution_count": 15,
   "metadata": {},
   "outputs": [
    {
     "data": {
      "text/plain": [
       "0.3913447540974016"
      ]
     },
     "execution_count": 15,
     "metadata": {},
     "output_type": "execute_result"
    }
   ],
   "source": [
    "p = 4/6\n",
    "n = 18\n",
    "r1 = round(n*0.6)\n",
    "r2 = round(n*0.2)\n",
    "stats.binom.cdf(r1,n,p) - stats.binom.cdf(r2,n,p)"
   ]
  },
  {
   "cell_type": "code",
   "execution_count": 18,
   "metadata": {},
   "outputs": [
    {
     "data": {
      "text/plain": [
       "0.8983349174390207"
      ]
     },
     "execution_count": 18,
     "metadata": {},
     "output_type": "execute_result"
    }
   ],
   "source": [
    "p = 4/6\n",
    "r = round(n*0.8)\n",
    "n = 18\n",
    "stats.binom.cdf(r,n,p)"
   ]
  },
  {
   "cell_type": "markdown",
   "metadata": {},
   "source": [
    "### 2. The age distribution of the employee in GreatLearning follows a Normal Distribution.There are 2000 employee working in GreatLearning. ( Marks 5 )\n",
    "The average age of the employee is 35 and the standard deviation of age is 9.Answer the following question.\n",
    "\n",
    "a. Find the following probability that an employee is randomly chosen and he is younger than 27 years. (Marks 1)  \n",
    "\n",
    "b. How many employee are there who is older than 40 years? (Marks 2)\n",
    "\n",
    "c. Find out the number of employee ages between 30 to 35 years(Marks 2)"
   ]
  },
  {
   "cell_type": "code",
   "execution_count": 23,
   "metadata": {},
   "outputs": [
    {
     "data": {
      "text/plain": [
       "0.18703139874544122"
      ]
     },
     "execution_count": 23,
     "metadata": {},
     "output_type": "execute_result"
    }
   ],
   "source": [
    "mu = 35\n",
    "sigma = 9\n",
    "\n",
    "stats.norm.cdf((27-mu)/sigma)"
   ]
  },
  {
   "cell_type": "code",
   "execution_count": 27,
   "metadata": {},
   "outputs": [
    {
     "data": {
      "text/plain": [
       "579"
      ]
     },
     "execution_count": 27,
     "metadata": {},
     "output_type": "execute_result"
    }
   ],
   "source": [
    "round((1-stats.norm.cdf( (40 - mu) / sigma))*2000)"
   ]
  },
  {
   "cell_type": "code",
   "execution_count": 30,
   "metadata": {},
   "outputs": [
    {
     "data": {
      "text/plain": [
       "421"
      ]
     },
     "execution_count": 30,
     "metadata": {},
     "output_type": "execute_result"
    }
   ],
   "source": [
    "round((stats.norm.cdf( (35 - mu) / sigma ) - stats.norm.cdf( (30 - mu) / sigma ))*2000)"
   ]
  },
  {
   "cell_type": "markdown",
   "metadata": {},
   "source": [
    "### 3.A manufacturing company produces 10000 iron-rods every month.A subset of 625 iron-rods were selected at random over a month.The average length of the selected rods were 150 cm and a standard deviation of 25.Determine a confidence interval at a 90% level of significance for the average length of all the rods produced by the company for a month. (Marks 5 )"
   ]
  },
  {
   "cell_type": "code",
   "execution_count": 32,
   "metadata": {},
   "outputs": [],
   "source": [
    "import numpy as np"
   ]
  },
  {
   "cell_type": "code",
   "execution_count": 33,
   "metadata": {
    "scrolled": true
   },
   "outputs": [
    {
     "name": "stdout",
     "output_type": "stream",
     "text": [
      "151.6472992161185\n",
      "148.3527007838815\n"
     ]
    }
   ],
   "source": [
    "alpha = 0.10\n",
    "X_bar = 150 # sample mean\n",
    "S_bar = 25 # sample_std\n",
    "n = 625\n",
    "\n",
    "t_alpha_by_2 = stats.t.isf(alpha/2,df=n-1)\n",
    "\n",
    "print(X_bar + t_alpha_by_2 * (S_bar/np.sqrt(n)))\n",
    "\n",
    "print(X_bar - t_alpha_by_2 * (S_bar/np.sqrt(n)))"
   ]
  },
  {
   "cell_type": "code",
   "execution_count": 36,
   "metadata": {},
   "outputs": [],
   "source": [
    "df = n - 1 \n",
    "standard_error = S_bar/(np.sqrt(n))"
   ]
  },
  {
   "cell_type": "code",
   "execution_count": 37,
   "metadata": {},
   "outputs": [
    {
     "data": {
      "text/plain": [
       "(148.3527007838815, 151.6472992161185)"
      ]
     },
     "execution_count": 37,
     "metadata": {},
     "output_type": "execute_result"
    }
   ],
   "source": [
    "stats.t.interval(confidence=0.9,loc=150,scale = standard_error ,df=df)"
   ]
  },
  {
   "cell_type": "markdown",
   "metadata": {},
   "source": [
    "### 4. E & J Gallo is one of the largest wine selling company in the world.The health inspection company wants to check the quality of the grape produced by their vineyard. E & J Gallo claims that the 99% of the grapes in a bucket is super fresh.Due to inspection norms, the health inspector can allow upto 5% of deviation. Now he is going to check for 120 buckets of grape.The previous study shows that their is a standard deviation of 3.1 grams.Hoow much margin of error the health inspetor should consider to estimate the weight of super fresh grape in the bucket with 95% confidence interval ?  (Marks : 5 )"
   ]
  },
  {
   "cell_type": "code",
   "execution_count": 39,
   "metadata": {},
   "outputs": [
    {
     "name": "stdout",
     "output_type": "stream",
     "text": [
      "0.5546501845523188\n"
     ]
    }
   ],
   "source": [
    "\n",
    "confidence_level = 0.99\n",
    "alpha = 0.05 \n",
    "\n",
    "n =120 \n",
    "S_bar = 3.1\n",
    "\n",
    "Z_alpha_by_2 = stats.norm.isf(alpha/2)\n",
    "\n",
    "print(Z_alpha_by_2 * (S_bar/np.sqrt(n)))\n"
   ]
  },
  {
   "cell_type": "markdown",
   "metadata": {},
   "source": [
    "# SECTION B: 30 MARKS"
   ]
  },
  {
   "cell_type": "markdown",
   "metadata": {},
   "source": [
    "_________________"
   ]
  },
  {
   "cell_type": "markdown",
   "metadata": {},
   "source": [
    "### 5.A Cancer-specality hospital has started accomodating Covid patient in their hospital due to emergent covid situation.A non-profit health organization wants to observe if the treatment cost for a Covid patient varies for cancer patient to non-cancer patient.The non-profit organization has collected the following data,\n",
    "\n",
    "\n",
    "\n",
    "| Cancer-patient||Non-Cancer-patient  ||\n",
    "| ------|  ------ |--------------|-----------------|\n",
    "| n1=\t|150| \tn2 =|12000 |\n",
    "| Average treatment_cost_for_Cancer-patient=|Rs. 120 ( in thousand )  | Average treatment_cost_for_Non-Cancer-patient =| RS. 68( in thousand )|\n",
    "| s1=|Rs. 42.7( in thousand )|     s2=| Rs. 21( in thousand )|\n",
    "\n",
    "**Test whether the cancer patient gets more treatment cost than no cancer patients with 95% confidence level.**\n",
    "\n",
    "Construct the suitable hypothesis (Marks 2) \n",
    "\n",
    "Perform the appropriate test(step by step)  (Marks 4) \n",
    "\n",
    "Calculate test statistics and pvalue (Marks 2)\n",
    "\n",
    "Infer about the same (Marks 2)\n",
    "\n",
    "\n",
    "**Note: Data is normal and have equal variance**"
   ]
  },
  {
   "cell_type": "code",
   "execution_count": 46,
   "metadata": {},
   "outputs": [
    {
     "name": "stdout",
     "output_type": "stream",
     "text": [
      "test_stats 1.3820676030862433\n",
      "c_value 1.9601592844733993\n",
      "p_value 0.08348817810542597\n"
     ]
    }
   ],
   "source": [
    "#H0 : Data is normal and have equal variance------mu1 <= mu2\n",
    "#H1 : Data is not normal and not equal variance------mu1 > mu2\n",
    "\n",
    "confidence_level = 0.95\n",
    "alpha = 0.05\n",
    "\n",
    "n1 = 150 #sample_n1\n",
    "n2 = 12000 #sample_n2 \n",
    "\n",
    "s1 = 42.7 #Samaple_std_dev_1\n",
    "s2 = 21 #Samaple_std_dev_2\n",
    "\n",
    "x1_bar = 120\n",
    "x2_bar = 68 \n",
    "\n",
    "df_1 = n1 - 1\n",
    "df_2 = n2 - 1 \n",
    "\n",
    "\n",
    "sp = ((df_1*(s1**2)) +  (df_2*(s2**2)))/(df_1+df_2) #pooled_variance \n",
    "\n",
    "denom = np.sqrt((sp**2) * (1/n1 + 1/n2))\n",
    "\n",
    "test_stats = (x1_bar-x2_bar) / denom\n",
    "\n",
    "print('test_stats',test_stats)\n",
    "\n",
    "# calculating c_value \n",
    "c_value = stats.t.isf(alpha/2,df=n1+n2-2)\n",
    "\n",
    "print('c_value',c_value)\n",
    "\n",
    "#calculating p_value\n",
    "p_value = stats.t.sf(test_stats,df=n1+n2-2)\n",
    "\n",
    "print('p_value',p_value)"
   ]
  },
  {
   "cell_type": "markdown",
   "metadata": {},
   "source": [
    "### 6.A protein substance company wants to perform a market research for their new product.They selected a group of 25 people and collected their heights before using the substance and after using the substance.The observations were recorded as follows. (Marks 10)\n",
    "\n",
    "\n",
    "Height before using protein substance\n",
    "\n",
    "[40.33988471 , 65.45165589 , 69.29431077 , 50.15160468 , 63.36230916 , \n",
    "51.5389873 , 44.61976373 , 76.20349948 , 46.97566092 , 57.50771274 ,\n",
    "54.18168223 , 50.38930196 , 55.27516039 , 51.05371227 , 53.52383118 , \n",
    "50.53401655 , 83.91368561 , 54.78463763 , 57.11193039 , 54.8514738 ,\n",
    "70.15160468 , 76.20349948 , 57.50771274 , 60.53401655 , 57.11193039]\n",
    "\n",
    "Height after using protein substance\n",
    "\n",
    "[58.87739106 , 90.11802011 , 72.85972769 , 90.21722263 , 59.48608328 ,\n",
    "65.82413227 , 58.24072556 , 74.2803345 , 74.16811533 , 65.57497872 ,\n",
    "63.85698576 , 65.5655025 , 63.18670367 , 49.72841091 , 94.8140674 ,\n",
    "65.62679488 , 21.86137145 , 67.08618707 , 65.87625645 , 68.64776404 ,\n",
    "71.722263 , 84.2803345 , 35.57497872 , 75.62679488 , 87.87625645]\n",
    "\n",
    "**The substance company has claimed that their product helps to increase the height of the children.Identify the appropriate test. Construct a suitable hypothesis, perform a test and draw the appropriate conclussion from that with 95% Confidence level.**\n",
    "\n",
    "**Note: Data is normal and have equal variance**"
   ]
  },
  {
   "cell_type": "code",
   "execution_count": 73,
   "metadata": {
    "scrolled": true
   },
   "outputs": [
    {
     "name": "stdout",
     "output_type": "stream",
     "text": [
      "test_stats 8.4001274398464 \n",
      "\n",
      "c_value 1.7108820799094282 \n",
      "\n",
      "p_value 0.999999993419456 \n",
      "\n",
      "Fails to reject H0,product usage is not effective \n",
      "\n"
     ]
    }
   ],
   "source": [
    "#H0 : mu_1 >= mu_2 --- product usage is not effective\n",
    "#H1 : mu_1 < mu_2 -- product usage is effective\n",
    "\n",
    "Before = [40.33988471 , 65.45165589 , 69.29431077 , 50.15160468 , 63.36230916 , 51.5389873 , 44.61976373 , 76.20349948 , 46.97566092 , 57.50771274 , 54.18168223 , 50.38930196 , 55.27516039 , 51.05371227 , 53.52383118 , 50.53401655 , 83.91368561 , 54.78463763 , 57.11193039 , 54.8514738 , 70.15160468 , 76.20349948 , 57.50771274 , 60.53401655 , 57.11193039]\n",
    "After = [58.87739106 , 90.11802011 , 72.85972769 , 90.21722263 , 59.48608328 , 65.82413227 , 58.24072556 , 74.2803345 , 74.16811533 , 65.57497872 , 63.85698576 , 65.5655025 , 63.18670367 , 49.72841091 , 94.8140674 , 65.62679488 , 21.86137145 , 67.08618707 , 65.87625645 , 68.64776404 , 71.722263 , 84.2803345 , 35.57497872 , 75.62679488 , 87.87625645]\n",
    "\n",
    "n=25\n",
    "\n",
    "s1= np.std(Before)\n",
    "s2= np.std(After)\n",
    "\n",
    "x1_bar = np.mean(Before)\n",
    "x2_bar = np.mean(After)\n",
    "\n",
    "df = n - 1\n",
    "\n",
    "denom = (s1-s2)/np.sqrt(n)\n",
    "test_stats = (x1_bar-x2_bar) / denom\n",
    "\n",
    "print('test_stats',test_stats,'\\n')\n",
    "\n",
    "# calculating c_value \n",
    "c_value = stats.t.isf(alpha,df=df)\n",
    "\n",
    "print('c_value',c_value,'\\n')\n",
    "\n",
    "#calculating p_value\n",
    "p_value = stats.t.cdf(test_stats,df=df)\n",
    "\n",
    "print('p_value',p_value,'\\n')\n",
    "\n",
    "if p_value < alpha :\n",
    "    print('Rejects H0,product usage is effective','\\n')\n",
    "else:\n",
    "    print('Fails to reject H0,product usage is not effective','\\n')"
   ]
  },
  {
   "cell_type": "code",
   "execution_count": null,
   "metadata": {},
   "outputs": [],
   "source": [
    "stats.ttest_rel()"
   ]
  },
  {
   "cell_type": "markdown",
   "metadata": {},
   "source": [
    "### 7. In India, the vaccination proccedure for Covid-19 started from January-21. The vaccination proccedure was organised over different age groups over the time period.Government has mentioned that the aged people(mentioned as Group-c) had the first priority of vaccination, then the mid aged people(mentioned as Group-B) and the last preference as provided to Group-A people. According to the vaccination proccedure, a person needs to have two dosage of vaccine in order to make their vaccination complete.A survey report was collected from a hospital about 35 random people visiting the hospital.The report was collected as follows. (Marks : 10)\n",
    "\n",
    "Age_Group = ['Group-B', 'Group-A', 'Group-A', 'Group-C', 'Group-C', 'Group-B',\n",
    "       'Group-A', 'Group-B', 'Group-A', 'Group-C', 'Group-C', 'Group-A',\n",
    "       'Group-C', 'Group-A', 'Group-B', 'Group-A', 'Group-C', 'Group-C',\n",
    "       'Group-A', 'Group-C', 'Group-B', 'Group-C', 'Group-B', 'Group-C',\n",
    "       'Group-C', 'Group-C', 'Group-B', 'Group-B', 'Group-B', 'Group-A',\n",
    "       'Group-B', 'Group-C', 'Group-A', 'Group-B', 'Group-A']\n",
    "       \n",
    "Vaccine_Status = ['One Dose', 'Both the Dose', 'One Dose', 'Both the Dose',\n",
    "       'No vaccine', 'One Dose', 'One Dose', 'One Dose', 'One Dose',\n",
    "       'Both the Dose', 'No vaccine', 'No vaccine', 'Both the Dose',\n",
    "       'One Dose', 'No vaccine', 'One Dose', 'No vaccine',\n",
    "       'Both the Dose', 'One Dose', 'One Dose', 'No vaccine',\n",
    "       'No vaccine', 'No vaccine', 'Both the Dose', 'One Dose',\n",
    "       'One Dose', 'One Dose', 'Both the Dose', 'Both the Dose',\n",
    "       'One Dose', 'One Dose', 'Both the Dose', 'One Dose',\n",
    "       'Both the Dose', 'Both the Dose']\n",
    "\n",
    "**We want to verify if there exists any kind of relation in the vaccination proccedure with 95% confidence level.**\n",
    "\n",
    "A.Frame Null and Alternate Hypothesis ( 2 Mark)\n",
    "\n",
    "B.State which test to be performed and clarify your choice  (2 Mark)\n",
    "\n",
    "C.Perform the test  (4 Mark)\n",
    "\n",
    "D.Interpret the results  (2 Mark)"
   ]
  },
  {
   "cell_type": "code",
   "execution_count": 48,
   "metadata": {},
   "outputs": [],
   "source": [
    "import pandas as pd"
   ]
  },
  {
   "cell_type": "code",
   "execution_count": 75,
   "metadata": {},
   "outputs": [],
   "source": [
    "Age_Group = ['Group-B', 'Group-A', 'Group-A', 'Group-C', 'Group-C', 'Group-B', 'Group-A', 'Group-B', 'Group-A', 'Group-C', 'Group-C', 'Group-A', 'Group-C', 'Group-A', 'Group-B', 'Group-A', 'Group-C', 'Group-C', 'Group-A', 'Group-C', 'Group-B', 'Group-C', 'Group-B', 'Group-C', 'Group-C', 'Group-C', 'Group-B', 'Group-B', 'Group-B', 'Group-A', 'Group-B', 'Group-C', 'Group-A', 'Group-B', 'Group-A']\n",
    "Vaccine_Status = ['One Dose', 'Both the Dose', 'One Dose', 'Both the Dose', 'No vaccine', 'One Dose', 'One Dose', 'One Dose', 'One Dose', 'Both the Dose', 'No vaccine', 'No vaccine', 'Both the Dose', 'One Dose', 'No vaccine', 'One Dose', 'No vaccine', 'Both the Dose', 'One Dose', 'One Dose', 'No vaccine', 'No vaccine', 'No vaccine', 'Both the Dose', 'One Dose', 'One Dose', 'One Dose', 'Both the Dose', 'Both the Dose', 'One Dose', 'One Dose', 'Both the Dose', 'One Dose', 'Both the Dose', 'Both the Dose']\n",
    "\n",
    "df = pd.DataFrame()\n",
    "\n",
    "df['Age'] = Age_Group\n",
    "\n",
    "df['Vaccine_Status'] = Vaccine_Status"
   ]
  },
  {
   "cell_type": "code",
   "execution_count": 78,
   "metadata": {
    "collapsed": true
   },
   "outputs": [
    {
     "data": {
      "text/html": [
       "<div>\n",
       "<style scoped>\n",
       "    .dataframe tbody tr th:only-of-type {\n",
       "        vertical-align: middle;\n",
       "    }\n",
       "\n",
       "    .dataframe tbody tr th {\n",
       "        vertical-align: top;\n",
       "    }\n",
       "\n",
       "    .dataframe thead th {\n",
       "        text-align: right;\n",
       "    }\n",
       "</style>\n",
       "<table border=\"1\" class=\"dataframe\">\n",
       "  <thead>\n",
       "    <tr style=\"text-align: right;\">\n",
       "      <th></th>\n",
       "      <th>Age</th>\n",
       "      <th>Vaccine_Status</th>\n",
       "    </tr>\n",
       "  </thead>\n",
       "  <tbody>\n",
       "    <tr>\n",
       "      <th>0</th>\n",
       "      <td>Group-B</td>\n",
       "      <td>One Dose</td>\n",
       "    </tr>\n",
       "    <tr>\n",
       "      <th>1</th>\n",
       "      <td>Group-A</td>\n",
       "      <td>Both the Dose</td>\n",
       "    </tr>\n",
       "    <tr>\n",
       "      <th>2</th>\n",
       "      <td>Group-A</td>\n",
       "      <td>One Dose</td>\n",
       "    </tr>\n",
       "    <tr>\n",
       "      <th>3</th>\n",
       "      <td>Group-C</td>\n",
       "      <td>Both the Dose</td>\n",
       "    </tr>\n",
       "    <tr>\n",
       "      <th>4</th>\n",
       "      <td>Group-C</td>\n",
       "      <td>No vaccine</td>\n",
       "    </tr>\n",
       "    <tr>\n",
       "      <th>5</th>\n",
       "      <td>Group-B</td>\n",
       "      <td>One Dose</td>\n",
       "    </tr>\n",
       "    <tr>\n",
       "      <th>6</th>\n",
       "      <td>Group-A</td>\n",
       "      <td>One Dose</td>\n",
       "    </tr>\n",
       "    <tr>\n",
       "      <th>7</th>\n",
       "      <td>Group-B</td>\n",
       "      <td>One Dose</td>\n",
       "    </tr>\n",
       "    <tr>\n",
       "      <th>8</th>\n",
       "      <td>Group-A</td>\n",
       "      <td>One Dose</td>\n",
       "    </tr>\n",
       "    <tr>\n",
       "      <th>9</th>\n",
       "      <td>Group-C</td>\n",
       "      <td>Both the Dose</td>\n",
       "    </tr>\n",
       "    <tr>\n",
       "      <th>10</th>\n",
       "      <td>Group-C</td>\n",
       "      <td>No vaccine</td>\n",
       "    </tr>\n",
       "    <tr>\n",
       "      <th>11</th>\n",
       "      <td>Group-A</td>\n",
       "      <td>No vaccine</td>\n",
       "    </tr>\n",
       "    <tr>\n",
       "      <th>12</th>\n",
       "      <td>Group-C</td>\n",
       "      <td>Both the Dose</td>\n",
       "    </tr>\n",
       "    <tr>\n",
       "      <th>13</th>\n",
       "      <td>Group-A</td>\n",
       "      <td>One Dose</td>\n",
       "    </tr>\n",
       "    <tr>\n",
       "      <th>14</th>\n",
       "      <td>Group-B</td>\n",
       "      <td>No vaccine</td>\n",
       "    </tr>\n",
       "    <tr>\n",
       "      <th>15</th>\n",
       "      <td>Group-A</td>\n",
       "      <td>One Dose</td>\n",
       "    </tr>\n",
       "    <tr>\n",
       "      <th>16</th>\n",
       "      <td>Group-C</td>\n",
       "      <td>No vaccine</td>\n",
       "    </tr>\n",
       "    <tr>\n",
       "      <th>17</th>\n",
       "      <td>Group-C</td>\n",
       "      <td>Both the Dose</td>\n",
       "    </tr>\n",
       "    <tr>\n",
       "      <th>18</th>\n",
       "      <td>Group-A</td>\n",
       "      <td>One Dose</td>\n",
       "    </tr>\n",
       "    <tr>\n",
       "      <th>19</th>\n",
       "      <td>Group-C</td>\n",
       "      <td>One Dose</td>\n",
       "    </tr>\n",
       "    <tr>\n",
       "      <th>20</th>\n",
       "      <td>Group-B</td>\n",
       "      <td>No vaccine</td>\n",
       "    </tr>\n",
       "    <tr>\n",
       "      <th>21</th>\n",
       "      <td>Group-C</td>\n",
       "      <td>No vaccine</td>\n",
       "    </tr>\n",
       "    <tr>\n",
       "      <th>22</th>\n",
       "      <td>Group-B</td>\n",
       "      <td>No vaccine</td>\n",
       "    </tr>\n",
       "    <tr>\n",
       "      <th>23</th>\n",
       "      <td>Group-C</td>\n",
       "      <td>Both the Dose</td>\n",
       "    </tr>\n",
       "    <tr>\n",
       "      <th>24</th>\n",
       "      <td>Group-C</td>\n",
       "      <td>One Dose</td>\n",
       "    </tr>\n",
       "    <tr>\n",
       "      <th>25</th>\n",
       "      <td>Group-C</td>\n",
       "      <td>One Dose</td>\n",
       "    </tr>\n",
       "    <tr>\n",
       "      <th>26</th>\n",
       "      <td>Group-B</td>\n",
       "      <td>One Dose</td>\n",
       "    </tr>\n",
       "    <tr>\n",
       "      <th>27</th>\n",
       "      <td>Group-B</td>\n",
       "      <td>Both the Dose</td>\n",
       "    </tr>\n",
       "    <tr>\n",
       "      <th>28</th>\n",
       "      <td>Group-B</td>\n",
       "      <td>Both the Dose</td>\n",
       "    </tr>\n",
       "    <tr>\n",
       "      <th>29</th>\n",
       "      <td>Group-A</td>\n",
       "      <td>One Dose</td>\n",
       "    </tr>\n",
       "    <tr>\n",
       "      <th>30</th>\n",
       "      <td>Group-B</td>\n",
       "      <td>One Dose</td>\n",
       "    </tr>\n",
       "    <tr>\n",
       "      <th>31</th>\n",
       "      <td>Group-C</td>\n",
       "      <td>Both the Dose</td>\n",
       "    </tr>\n",
       "    <tr>\n",
       "      <th>32</th>\n",
       "      <td>Group-A</td>\n",
       "      <td>One Dose</td>\n",
       "    </tr>\n",
       "    <tr>\n",
       "      <th>33</th>\n",
       "      <td>Group-B</td>\n",
       "      <td>Both the Dose</td>\n",
       "    </tr>\n",
       "    <tr>\n",
       "      <th>34</th>\n",
       "      <td>Group-A</td>\n",
       "      <td>Both the Dose</td>\n",
       "    </tr>\n",
       "  </tbody>\n",
       "</table>\n",
       "</div>"
      ],
      "text/plain": [
       "        Age Vaccine_Status\n",
       "0   Group-B       One Dose\n",
       "1   Group-A  Both the Dose\n",
       "2   Group-A       One Dose\n",
       "3   Group-C  Both the Dose\n",
       "4   Group-C     No vaccine\n",
       "5   Group-B       One Dose\n",
       "6   Group-A       One Dose\n",
       "7   Group-B       One Dose\n",
       "8   Group-A       One Dose\n",
       "9   Group-C  Both the Dose\n",
       "10  Group-C     No vaccine\n",
       "11  Group-A     No vaccine\n",
       "12  Group-C  Both the Dose\n",
       "13  Group-A       One Dose\n",
       "14  Group-B     No vaccine\n",
       "15  Group-A       One Dose\n",
       "16  Group-C     No vaccine\n",
       "17  Group-C  Both the Dose\n",
       "18  Group-A       One Dose\n",
       "19  Group-C       One Dose\n",
       "20  Group-B     No vaccine\n",
       "21  Group-C     No vaccine\n",
       "22  Group-B     No vaccine\n",
       "23  Group-C  Both the Dose\n",
       "24  Group-C       One Dose\n",
       "25  Group-C       One Dose\n",
       "26  Group-B       One Dose\n",
       "27  Group-B  Both the Dose\n",
       "28  Group-B  Both the Dose\n",
       "29  Group-A       One Dose\n",
       "30  Group-B       One Dose\n",
       "31  Group-C  Both the Dose\n",
       "32  Group-A       One Dose\n",
       "33  Group-B  Both the Dose\n",
       "34  Group-A  Both the Dose"
      ]
     },
     "execution_count": 78,
     "metadata": {},
     "output_type": "execute_result"
    }
   ],
   "source": [
    "df"
   ]
  },
  {
   "cell_type": "code",
   "execution_count": 76,
   "metadata": {},
   "outputs": [],
   "source": [
    "#H0 : Both are independent\n",
    "#H1 : Both are dependent\n",
    "alpha = 0.05\n",
    "n = 35"
   ]
  },
  {
   "cell_type": "code",
   "execution_count": 77,
   "metadata": {},
   "outputs": [
    {
     "data": {
      "text/html": [
       "<div>\n",
       "<style scoped>\n",
       "    .dataframe tbody tr th:only-of-type {\n",
       "        vertical-align: middle;\n",
       "    }\n",
       "\n",
       "    .dataframe tbody tr th {\n",
       "        vertical-align: top;\n",
       "    }\n",
       "\n",
       "    .dataframe thead th {\n",
       "        text-align: right;\n",
       "    }\n",
       "</style>\n",
       "<table border=\"1\" class=\"dataframe\">\n",
       "  <thead>\n",
       "    <tr style=\"text-align: right;\">\n",
       "      <th>Vaccine_Status</th>\n",
       "      <th>Both the Dose</th>\n",
       "      <th>No vaccine</th>\n",
       "      <th>One Dose</th>\n",
       "      <th>All</th>\n",
       "    </tr>\n",
       "    <tr>\n",
       "      <th>Age</th>\n",
       "      <th></th>\n",
       "      <th></th>\n",
       "      <th></th>\n",
       "      <th></th>\n",
       "    </tr>\n",
       "  </thead>\n",
       "  <tbody>\n",
       "    <tr>\n",
       "      <th>Group-A</th>\n",
       "      <td>2</td>\n",
       "      <td>1</td>\n",
       "      <td>8</td>\n",
       "      <td>11</td>\n",
       "    </tr>\n",
       "    <tr>\n",
       "      <th>Group-B</th>\n",
       "      <td>3</td>\n",
       "      <td>3</td>\n",
       "      <td>5</td>\n",
       "      <td>11</td>\n",
       "    </tr>\n",
       "    <tr>\n",
       "      <th>Group-C</th>\n",
       "      <td>6</td>\n",
       "      <td>4</td>\n",
       "      <td>3</td>\n",
       "      <td>13</td>\n",
       "    </tr>\n",
       "    <tr>\n",
       "      <th>All</th>\n",
       "      <td>11</td>\n",
       "      <td>8</td>\n",
       "      <td>16</td>\n",
       "      <td>35</td>\n",
       "    </tr>\n",
       "  </tbody>\n",
       "</table>\n",
       "</div>"
      ],
      "text/plain": [
       "Vaccine_Status  Both the Dose  No vaccine  One Dose  All\n",
       "Age                                                     \n",
       "Group-A                     2           1         8   11\n",
       "Group-B                     3           3         5   11\n",
       "Group-C                     6           4         3   13\n",
       "All                        11           8        16   35"
      ]
     },
     "execution_count": 77,
     "metadata": {},
     "output_type": "execute_result"
    }
   ],
   "source": [
    "pd.crosstab(df['Age'],df['Vaccine_Status'],margins=True)"
   ]
  },
  {
   "cell_type": "code",
   "execution_count": 62,
   "metadata": {},
   "outputs": [],
   "source": [
    "df_1 = pd.crosstab(df['Age'],df['Vaccine_Status'],margins=True)"
   ]
  },
  {
   "cell_type": "code",
   "execution_count": 80,
   "metadata": {},
   "outputs": [
    {
     "data": {
      "text/plain": [
       "Chi2ContingencyResult(statistic=6.1466942148760335, pvalue=0.7251514761005411, dof=9, expected_freq=array([[ 3.45714286,  2.51428571,  5.02857143, 11.        ],\n",
       "       [ 3.45714286,  2.51428571,  5.02857143, 11.        ],\n",
       "       [ 4.08571429,  2.97142857,  5.94285714, 13.        ],\n",
       "       [11.        ,  8.        , 16.        , 35.        ]]))"
      ]
     },
     "execution_count": 80,
     "metadata": {},
     "output_type": "execute_result"
    }
   ],
   "source": [
    "stats.chi2_contingency(df_1)"
   ]
  },
  {
   "cell_type": "code",
   "execution_count": 70,
   "metadata": {
    "scrolled": true
   },
   "outputs": [
    {
     "name": "stdout",
     "output_type": "stream",
     "text": [
      "0.7251514761005411\n"
     ]
    }
   ],
   "source": [
    "p_value = stats.chi2_contingency(df_1).pvalue\n",
    "print(p_value)"
   ]
  },
  {
   "cell_type": "code",
   "execution_count": 72,
   "metadata": {},
   "outputs": [
    {
     "name": "stdout",
     "output_type": "stream",
     "text": [
      "Fails to reject H0,Both are Independent \n",
      "\n"
     ]
    }
   ],
   "source": [
    "if p_value < alpha :\n",
    "    print('Rejects H0,Both are dependent','\\n')\n",
    "else:\n",
    "    print('Fails to reject H0,Both are Independent','\\n')"
   ]
  },
  {
   "cell_type": "markdown",
   "metadata": {},
   "source": [
    "# SECTION C: 30 MARKS"
   ]
  },
  {
   "cell_type": "markdown",
   "metadata": {},
   "source": [
    "_________________"
   ]
  },
  {
   "cell_type": "markdown",
   "metadata": {},
   "source": [
    "### 8. State Central limit theorem and prove it. (Marks 10)\n",
    "\n",
    "**Consider a binomial population and prove it for sample size 100 and number of sample as 500.**"
   ]
  },
  {
   "cell_type": "markdown",
   "metadata": {},
   "source": [
    "### Hint: "
   ]
  },
  {
   "cell_type": "raw",
   "metadata": {},
   "source": [
    "np.random.seed(0)\n",
    "pop= np.random.binomial(n= 9,p= .25, size = 1000) #\n",
    "pop.sort()"
   ]
  },
  {
   "cell_type": "code",
   "execution_count": 95,
   "metadata": {},
   "outputs": [],
   "source": [
    "import random\n",
    "import seaborn as sns"
   ]
  },
  {
   "cell_type": "code",
   "execution_count": 88,
   "metadata": {},
   "outputs": [],
   "source": [
    "np.random.seed(0)\n",
    "pop = np.random.binomial(n= 9,p= .25, size = 1000) #\n"
   ]
  },
  {
   "cell_type": "code",
   "execution_count": 89,
   "metadata": {
    "collapsed": true
   },
   "outputs": [
    {
     "data": {
      "text/plain": [
       "array([2, 3, 3, 2, 2, 3, 2, 4, 5, 2, 3, 2, 2, 4, 0, 1, 0, 3, 3, 4, 5, 3,\n",
       "       2, 3, 1, 3, 1, 4, 2, 2, 1, 3, 2, 2, 0, 3, 3, 3, 4, 3, 2, 2, 3, 0,\n",
       "       3, 3, 1, 1, 2, 2, 2, 2, 5, 1, 1, 1, 3, 1, 2, 1, 1, 1, 3, 1, 1, 2,\n",
       "       3, 1, 4, 1, 5, 2, 5, 3, 3, 0, 1, 1, 1, 1, 2, 2, 0, 3, 2, 1, 2, 1,\n",
       "       2, 4, 2, 3, 1, 3, 1, 1, 2, 0, 3, 0, 3, 1, 3, 5, 1, 2, 2, 2, 1, 5,\n",
       "       2, 4, 3, 1, 3, 2, 4, 2, 4, 3, 3, 2, 5, 3, 2, 3, 0, 2, 3, 1, 3, 2,\n",
       "       1, 1, 2, 2, 2, 3, 3, 2, 4, 2, 2, 4, 3, 3, 1, 4, 3, 7, 1, 4, 1, 3,\n",
       "       1, 4, 3, 2, 2, 0, 3, 2, 3, 4, 5, 4, 0, 2, 3, 1, 2, 0, 1, 0, 3, 1,\n",
       "       2, 4, 3, 0, 1, 3, 2, 1, 4, 3, 2, 2, 3, 2, 2, 1, 1, 4, 3, 2, 1, 1,\n",
       "       0, 2, 2, 3, 2, 1, 0, 0, 3, 2, 2, 4, 6, 1, 3, 1, 0, 3, 2, 2, 2, 3,\n",
       "       3, 4, 1, 3, 1, 5, 3, 1, 4, 3, 1, 1, 2, 0, 1, 2, 2, 2, 1, 2, 4, 1,\n",
       "       2, 1, 3, 2, 2, 1, 1, 2, 2, 4, 3, 3, 4, 1, 2, 2, 5, 1, 1, 1, 0, 4,\n",
       "       3, 3, 1, 2, 0, 2, 5, 4, 2, 5, 1, 4, 4, 3, 3, 4, 1, 4, 3, 0, 2, 1,\n",
       "       5, 2, 2, 3, 2, 1, 3, 1, 2, 1, 1, 4, 5, 5, 4, 3, 2, 1, 2, 1, 1, 0,\n",
       "       3, 0, 3, 1, 1, 1, 3, 1, 2, 2, 4, 3, 1, 1, 0, 2, 1, 2, 3, 3, 1, 2,\n",
       "       1, 3, 0, 3, 3, 3, 1, 2, 2, 1, 2, 1, 2, 0, 3, 1, 2, 2, 2, 5, 3, 0,\n",
       "       2, 2, 2, 3, 1, 1, 2, 5, 1, 4, 2, 2, 4, 2, 3, 2, 4, 3, 3, 2, 3, 3,\n",
       "       1, 1, 3, 5, 2, 2, 4, 2, 5, 2, 3, 4, 3, 1, 3, 2, 0, 2, 1, 4, 0, 5,\n",
       "       2, 2, 0, 1, 2, 4, 1, 4, 4, 2, 2, 1, 3, 0, 0, 2, 0, 1, 1, 1, 1, 0,\n",
       "       1, 3, 5, 6, 2, 1, 3, 2, 5, 0, 3, 1, 1, 3, 1, 3, 2, 2, 2, 1, 3, 2,\n",
       "       2, 3, 4, 0, 1, 2, 3, 5, 5, 4, 1, 6, 1, 1, 4, 1, 3, 0, 3, 4, 1, 2,\n",
       "       2, 3, 1, 1, 2, 2, 4, 1, 2, 4, 3, 4, 4, 3, 3, 5, 6, 2, 0, 1, 1, 2,\n",
       "       1, 3, 2, 4, 5, 2, 1, 2, 4, 2, 2, 1, 2, 2, 1, 2, 2, 2, 2, 3, 2, 4,\n",
       "       4, 0, 1, 2, 1, 2, 3, 3, 3, 3, 1, 2, 3, 4, 2, 1, 0, 3, 0, 2, 2, 4,\n",
       "       1, 2, 0, 2, 3, 1, 1, 1, 2, 3, 3, 4, 0, 3, 2, 2, 5, 0, 3, 3, 2, 2,\n",
       "       3, 1, 2, 2, 3, 1, 1, 2, 3, 4, 3, 1, 5, 4, 2, 4, 2, 4, 3, 5, 4, 0,\n",
       "       1, 2, 5, 1, 1, 4, 2, 4, 1, 3, 2, 1, 3, 1, 0, 0, 0, 4, 3, 4, 3, 2,\n",
       "       2, 6, 2, 2, 2, 5, 1, 2, 3, 0, 3, 2, 1, 1, 2, 2, 2, 2, 5, 1, 1, 2,\n",
       "       2, 3, 2, 7, 2, 3, 3, 3, 5, 4, 3, 3, 2, 1, 0, 1, 2, 2, 3, 5, 1, 1,\n",
       "       2, 3, 4, 4, 5, 2, 2, 1, 3, 3, 4, 1, 2, 2, 1, 1, 4, 0, 2, 1, 2, 5,\n",
       "       2, 4, 1, 1, 2, 2, 3, 2, 3, 3, 2, 2, 3, 0, 3, 3, 3, 2, 1, 2, 2, 2,\n",
       "       0, 3, 1, 3, 3, 3, 5, 1, 4, 0, 2, 2, 2, 2, 1, 0, 2, 4, 2, 1, 1, 1,\n",
       "       1, 1, 1, 0, 0, 4, 1, 2, 3, 2, 1, 1, 2, 2, 2, 3, 3, 4, 0, 4, 2, 4,\n",
       "       3, 5, 3, 2, 2, 2, 2, 1, 2, 3, 1, 2, 1, 1, 0, 5, 0, 1, 3, 1, 4, 3,\n",
       "       5, 2, 2, 2, 4, 2, 1, 4, 2, 0, 1, 2, 4, 2, 2, 2, 4, 4, 6, 2, 5, 3,\n",
       "       3, 1, 1, 1, 4, 1, 2, 2, 3, 4, 1, 2, 4, 3, 1, 1, 2, 1, 2, 1, 2, 1,\n",
       "       2, 1, 5, 4, 2, 1, 1, 2, 0, 3, 2, 2, 3, 3, 5, 2, 4, 3, 2, 3, 1, 4,\n",
       "       1, 1, 1, 2, 3, 2, 2, 0, 2, 0, 1, 4, 1, 4, 3, 1, 3, 1, 3, 3, 3, 2,\n",
       "       4, 0, 1, 3, 2, 1, 1, 3, 2, 4, 3, 2, 2, 2, 4, 3, 0, 3, 4, 3, 1, 2,\n",
       "       1, 2, 4, 4, 1, 2, 2, 5, 1, 1, 4, 2, 4, 1, 2, 2, 2, 2, 2, 2, 4, 3,\n",
       "       3, 1, 2, 3, 3, 2, 3, 3, 1, 4, 2, 2, 2, 2, 3, 2, 4, 3, 2, 2, 3, 2,\n",
       "       1, 0, 4, 4, 1, 2, 1, 1, 4, 0, 5, 1, 4, 2, 2, 2, 3, 2, 3, 2, 2, 4,\n",
       "       2, 3, 3, 0, 3, 1, 4, 0, 2, 1, 2, 3, 1, 1, 2, 3, 1, 1, 0, 3, 2, 2,\n",
       "       3, 2, 3, 3, 1, 5, 1, 1, 1, 2, 2, 2, 4, 4, 1, 3, 1, 2, 2, 2, 2, 3,\n",
       "       0, 4, 3, 1, 4, 2, 7, 1, 2, 1, 2, 2, 4, 3, 3, 2, 4, 2, 4, 3, 1, 3,\n",
       "       0, 2, 1, 2, 3, 1, 2, 4, 1, 3])"
      ]
     },
     "execution_count": 89,
     "metadata": {},
     "output_type": "execute_result"
    }
   ],
   "source": [
    "pop"
   ]
  },
  {
   "cell_type": "code",
   "execution_count": 113,
   "metadata": {},
   "outputs": [
    {
     "name": "stderr",
     "output_type": "stream",
     "text": [
      "C:\\Users\\K\\AppData\\Local\\Temp\\ipykernel_71340\\1879801924.py:1: UserWarning: \n",
      "\n",
      "`distplot` is a deprecated function and will be removed in seaborn v0.14.0.\n",
      "\n",
      "Please adapt your code to use either `displot` (a figure-level function with\n",
      "similar flexibility) or `histplot` (an axes-level function for histograms).\n",
      "\n",
      "For a guide to updating your code to use the new functions, please see\n",
      "https://gist.github.com/mwaskom/de44147ed2974457ad6372750bbe5751\n",
      "\n",
      "  sns.distplot(pop)\n"
     ]
    },
    {
     "data": {
      "text/plain": [
       "<Axes: ylabel='Density'>"
      ]
     },
     "execution_count": 113,
     "metadata": {},
     "output_type": "execute_result"
    },
    {
     "data": {
      "image/png": "[encoded data removed]",
      "text/plain": [
       "<Figure size 640x480 with 1 Axes>"
      ]
     },
     "metadata": {},
     "output_type": "display_data"
    }
   ],
   "source": [
    "sns.distplot(pop)"
   ]
  },
  {
   "cell_type": "code",
   "execution_count": 91,
   "metadata": {
    "collapsed": true
   },
   "outputs": [
    {
     "name": "stdout",
     "output_type": "stream",
     "text": [
      "[2.198, 2.282, 2.216, 2.258, 2.226, 2.296, 2.278, 2.27, 2.224, 2.232, 2.292, 2.23, 2.236, 2.266, 2.212, 2.24, 2.298, 2.226, 2.272, 2.308, 2.226, 2.232, 2.236, 2.194, 2.266, 2.314, 2.31, 2.234, 2.244, 2.238, 2.232, 2.234, 2.254, 2.194, 2.268, 2.34, 2.264, 2.2, 2.32, 2.208, 2.276, 2.216, 2.238, 2.24, 2.3, 2.278, 2.174, 2.2, 2.202, 2.306, 2.236, 2.164, 2.21, 2.268, 2.282, 2.188, 2.27, 2.256, 2.262, 2.266, 2.218, 2.218, 2.242, 2.254, 2.206, 2.212, 2.222, 2.224, 2.266, 2.326, 2.236, 2.192, 2.35, 2.288, 2.224, 2.246, 2.324, 2.298, 2.266, 2.212, 2.314, 2.258, 2.292, 2.254, 2.26, 2.208, 2.178, 2.248, 2.272, 2.248, 2.29, 2.298, 2.236, 2.274, 2.286, 2.308, 2.272, 2.192, 2.276, 2.244, 2.242, 2.256, 2.146, 2.31, 2.292, 2.212, 2.212, 2.29, 2.202, 2.222, 2.3, 2.254, 2.266, 2.23, 2.256, 2.224, 2.254, 2.208, 2.238, 2.294, 2.168, 2.192, 2.222, 2.236, 2.22, 2.266, 2.196, 2.33, 2.25, 2.254, 2.23, 2.308, 2.23, 2.28, 2.208, 2.246, 2.292, 2.248, 2.304, 2.278, 2.192, 2.242, 2.246, 2.26, 2.166, 2.212, 2.234, 2.192, 2.276, 2.268, 2.3, 2.304, 2.182, 2.276, 2.192, 2.246, 2.234, 2.27, 2.274, 2.314, 2.264, 2.298, 2.288, 2.296, 2.198, 2.264, 2.294, 2.256, 2.21, 2.214, 2.276, 2.236, 2.254, 2.31, 2.266, 2.234, 2.242, 2.23, 2.324, 2.202, 2.264, 2.222, 2.284, 2.206, 2.29, 2.188, 2.252, 2.234, 2.228, 2.236, 2.266, 2.23, 2.146, 2.16, 2.194, 2.292, 2.266, 2.202, 2.222, 2.136, 2.16, 2.246, 2.304, 2.22, 2.168, 2.224, 2.208, 2.226, 2.274, 2.248, 2.232, 2.288, 2.228, 2.238, 2.266, 2.276, 2.292, 2.272, 2.256, 2.208, 2.224, 2.258, 2.302, 2.358, 2.152, 2.18, 2.302, 2.198, 2.212, 2.232, 2.268, 2.268, 2.28, 2.212, 2.31, 2.246, 2.21, 2.242, 2.216, 2.286, 2.256, 2.238, 2.2, 2.292, 2.212, 2.234, 2.28, 2.256, 2.26, 2.248, 2.224, 2.218, 2.246, 2.19, 2.286, 2.174, 2.278, 2.338, 2.312, 2.242, 2.256, 2.24, 2.204, 2.312, 2.264, 2.226, 2.26, 2.194, 2.2, 2.24, 2.24, 2.16, 2.268, 2.222, 2.28, 2.254, 2.192, 2.332, 2.264, 2.274, 2.266, 2.23, 2.246, 2.258, 2.336, 2.342, 2.28, 2.21, 2.254, 2.304, 2.246, 2.252, 2.27, 2.324, 2.232, 2.27, 2.27, 2.1, 2.274, 2.182, 2.24, 2.266, 2.302, 2.246, 2.272, 2.264, 2.186, 2.192, 2.214, 2.23, 2.222, 2.268, 2.27, 2.242, 2.218, 2.248, 2.278, 2.214, 2.262, 2.268, 2.278, 2.264, 2.168, 2.18, 2.23, 2.17, 2.274, 2.264, 2.228, 2.274, 2.252, 2.252, 2.252, 2.206, 2.246, 2.232, 2.334, 2.21, 2.256, 2.244, 2.254, 2.274, 2.272, 2.322, 2.246, 2.19, 2.242, 2.314, 2.256, 2.308, 2.218, 2.2, 2.288, 2.276, 2.262, 2.168, 2.26, 2.314, 2.27, 2.268, 2.254, 2.298, 2.19, 2.254, 2.226, 2.264, 2.266, 2.228, 2.256, 2.242, 2.268, 2.336, 2.254, 2.274, 2.214, 2.192, 2.21, 2.286, 2.276, 2.24, 2.292, 2.254, 2.26, 2.3, 2.182, 2.25, 2.256, 2.256, 2.284, 2.19, 2.112, 2.256, 2.208, 2.264, 2.296, 2.206, 2.246, 2.332, 2.218, 2.208, 2.298, 2.248, 2.194, 2.276, 2.254, 2.166, 2.25, 2.24, 2.172, 2.208, 2.2, 2.322, 2.202, 2.288, 2.302, 2.28, 2.312, 2.142, 2.162, 2.246, 2.222, 2.17, 2.23, 2.21, 2.25, 2.266, 2.28, 2.25, 2.318, 2.19, 2.256, 2.28, 2.226, 2.346, 2.278, 2.23, 2.226, 2.32, 2.264, 2.288, 2.302, 2.25, 2.24, 2.24, 2.218, 2.228, 2.274, 2.236, 2.198, 2.27, 2.208, 2.266, 2.224, 2.34, 2.274, 2.212, 2.302, 2.32, 2.302, 2.292, 2.238, 2.206, 2.274, 2.27, 2.268, 2.29, 2.214, 2.24, 2.322, 2.224, 2.198, 2.312, 2.268, 2.246, 2.298, 2.242, 2.24, 2.272, 2.218, 2.294, 2.276, 2.186, 2.26, 2.226, 2.276, 2.256, 2.224, 2.294, 2.286, 2.206, 2.26, 2.334, 2.3, 2.284, 2.29, 2.274, 2.252, 2.222, 2.24, 2.34]\n"
     ]
    }
   ],
   "source": [
    "l1 = []\n",
    "for i in range(500):\n",
    "    l1.append(np.mean(random.sample(sorted(pop),500)))\n",
    "print(l1)"
   ]
  },
  {
   "cell_type": "code",
   "execution_count": 96,
   "metadata": {},
   "outputs": [
    {
     "name": "stderr",
     "output_type": "stream",
     "text": [
      "C:\\Users\\K\\AppData\\Local\\Temp\\ipykernel_71340\\679414617.py:1: UserWarning: \n",
      "\n",
      "`distplot` is a deprecated function and will be removed in seaborn v0.14.0.\n",
      "\n",
      "Please adapt your code to use either `displot` (a figure-level function with\n",
      "similar flexibility) or `histplot` (an axes-level function for histograms).\n",
      "\n",
      "For a guide to updating your code to use the new functions, please see\n",
      "https://gist.github.com/mwaskom/de44147ed2974457ad6372750bbe5751\n",
      "\n",
      "  sns.distplot(l1)\n"
     ]
    },
    {
     "data": {
      "text/plain": [
       "<Axes: ylabel='Density'>"
      ]
     },
     "execution_count": 96,
     "metadata": {},
     "output_type": "execute_result"
    },
    {
     "data": {
      "image/png": "[encoded data removed]",
      "text/plain": [
       "<Figure size 640x480 with 1 Axes>"
      ]
     },
     "metadata": {},
     "output_type": "display_data"
    }
   ],
   "source": [
    "sns.distplot(l1)"
   ]
  },
  {
   "cell_type": "code",
   "execution_count": 92,
   "metadata": {},
   "outputs": [
    {
     "data": {
      "text/plain": [
       "2.2492959999999997"
      ]
     },
     "execution_count": 92,
     "metadata": {},
     "output_type": "execute_result"
    }
   ],
   "source": [
    "np.mean(l1)"
   ]
  },
  {
   "cell_type": "code",
   "execution_count": 93,
   "metadata": {
    "scrolled": true
   },
   "outputs": [
    {
     "data": {
      "text/plain": [
       "2.249"
      ]
     },
     "execution_count": 93,
     "metadata": {},
     "output_type": "execute_result"
    }
   ],
   "source": [
    "np.mean(pop)"
   ]
  },
  {
   "cell_type": "code",
   "execution_count": null,
   "metadata": {},
   "outputs": [],
   "source": [
    "#H0 : Data is Normal\n",
    "#H1 : Data is not Normal"
   ]
  },
  {
   "cell_type": "code",
   "execution_count": 97,
   "metadata": {},
   "outputs": [
    {
     "data": {
      "text/plain": [
       "ShapiroResult(statistic=0.9963418245315552, pvalue=0.3089728057384491)"
      ]
     },
     "execution_count": 97,
     "metadata": {},
     "output_type": "execute_result"
    }
   ],
   "source": [
    "stats.shapiro(l1)"
   ]
  },
  {
   "cell_type": "code",
   "execution_count": 98,
   "metadata": {},
   "outputs": [],
   "source": [
    "p_value = stats.shapiro(l1).pvalue"
   ]
  },
  {
   "cell_type": "code",
   "execution_count": 99,
   "metadata": {},
   "outputs": [
    {
     "name": "stdout",
     "output_type": "stream",
     "text": [
      "Fails to reject H0,Data is Normal \n",
      "\n"
     ]
    }
   ],
   "source": [
    "if p_value < alpha :\n",
    "    print('Rejects H0,Data is not Normal','\\n')\n",
    "else:\n",
    "    print('Fails to reject H0,Data is Normal','\\n')"
   ]
  },
  {
   "cell_type": "markdown",
   "metadata": {},
   "source": [
    "### 9. The following data was collected by an internet provider to launch a new offer."
   ]
  },
  {
   "cell_type": "markdown",
   "metadata": {},
   "source": [
    "Data description :\n",
    "\n",
    "Consumer I.D. --> Consumer identification Number\n",
    "\n",
    "Day_consumption --> Average day internet consumtion of the customer [ 6:00 a.m. to 6:00 p.m.]\n",
    "\n",
    "Night_consumption -->  Average night internet consumtion of the customer [ 6:00 p.m. to 6:00 a.m.]\n",
    "\n",
    "Age_group  --> Age group of the customer. \n",
    "\n",
    "Internet_1 --> Cost of internet consumption using interner_1 provider\n",
    "\n",
    "Internet_2 --> Cost of internet consumption using interner_2 provider\n"
   ]
  },
  {
   "cell_type": "markdown",
   "metadata": {},
   "source": [
    "**Construct the hypothesis , conduct the test and draw an inference for the following tests with 95% Confidence level.  (Marks 20)**\n",
    "\n",
    "\n",
    "a. The average Day Consumption of the population is less than 100 GB.  Marks (1+2+1)\n",
    "\n",
    "b. The average Night Consumption of the population is 110 GB.  Marks (1+2+1)\n",
    "\n",
    "c. The cost for the internet Consumption with different internet provider is same.  Marks (2+2+1)\n",
    "\n",
    "d. Total Net internet consumption is different over different age group.  Marks (2+4+1) \n",
    "    \n",
    "\n",
    "#### Note: Data is normal and have equal variance."
   ]
  },
  {
   "cell_type": "code",
   "execution_count": 101,
   "metadata": {
    "scrolled": true
   },
   "outputs": [
    {
     "data": {
      "text/html": [
       "<div>\n",
       "<style scoped>\n",
       "    .dataframe tbody tr th:only-of-type {\n",
       "        vertical-align: middle;\n",
       "    }\n",
       "\n",
       "    .dataframe tbody tr th {\n",
       "        vertical-align: top;\n",
       "    }\n",
       "\n",
       "    .dataframe thead th {\n",
       "        text-align: right;\n",
       "    }\n",
       "</style>\n",
       "<table border=\"1\" class=\"dataframe\">\n",
       "  <thead>\n",
       "    <tr style=\"text-align: right;\">\n",
       "      <th></th>\n",
       "      <th>Consumer I.D.</th>\n",
       "      <th>Day_consumption</th>\n",
       "      <th>Night_consumption</th>\n",
       "      <th>Internet_1</th>\n",
       "      <th>Internet_2</th>\n",
       "      <th>Age_group</th>\n",
       "    </tr>\n",
       "  </thead>\n",
       "  <tbody>\n",
       "    <tr>\n",
       "      <th>0</th>\n",
       "      <td>Consumer_1</td>\n",
       "      <td>97.109182</td>\n",
       "      <td>109.156925</td>\n",
       "      <td>30.08</td>\n",
       "      <td>23.14</td>\n",
       "      <td>College</td>\n",
       "    </tr>\n",
       "    <tr>\n",
       "      <th>1</th>\n",
       "      <td>Consumer_2</td>\n",
       "      <td>98.039265</td>\n",
       "      <td>109.481086</td>\n",
       "      <td>18.38</td>\n",
       "      <td>28.86</td>\n",
       "      <td>School</td>\n",
       "    </tr>\n",
       "    <tr>\n",
       "      <th>2</th>\n",
       "      <td>Consumer_3</td>\n",
       "      <td>97.904030</td>\n",
       "      <td>110.428601</td>\n",
       "      <td>30.27</td>\n",
       "      <td>24.32</td>\n",
       "      <td>Working Professionals</td>\n",
       "    </tr>\n",
       "    <tr>\n",
       "      <th>3</th>\n",
       "      <td>Consumer_4</td>\n",
       "      <td>99.212383</td>\n",
       "      <td>110.048527</td>\n",
       "      <td>28.81</td>\n",
       "      <td>21.73</td>\n",
       "      <td>College</td>\n",
       "    </tr>\n",
       "    <tr>\n",
       "      <th>4</th>\n",
       "      <td>Consumer_5</td>\n",
       "      <td>99.235056</td>\n",
       "      <td>110.180046</td>\n",
       "      <td>25.06</td>\n",
       "      <td>32.65</td>\n",
       "      <td>College</td>\n",
       "    </tr>\n",
       "  </tbody>\n",
       "</table>\n",
       "</div>"
      ],
      "text/plain": [
       "  Consumer I.D.  Day_consumption  Night_consumption  Internet_1  Internet_2  \\\n",
       "0    Consumer_1        97.109182         109.156925       30.08       23.14   \n",
       "1    Consumer_2        98.039265         109.481086       18.38       28.86   \n",
       "2    Consumer_3        97.904030         110.428601       30.27       24.32   \n",
       "3    Consumer_4        99.212383         110.048527       28.81       21.73   \n",
       "4    Consumer_5        99.235056         110.180046       25.06       32.65   \n",
       "\n",
       "               Age_group  \n",
       "0                College  \n",
       "1                 School  \n",
       "2  Working Professionals  \n",
       "3                College  \n",
       "4                College  "
      ]
     },
     "execution_count": 101,
     "metadata": {},
     "output_type": "execute_result"
    }
   ],
   "source": [
    "df = pd.read_csv(r\"C:\\Users\\K\\Downloads\\Great Learning\\Stats\\Model paper\\Model_Exam_set_4\\Mock Exam paper 1\\data_set.csv\")\n",
    "df.head()"
   ]
  },
  {
   "cell_type": "code",
   "execution_count": 109,
   "metadata": {},
   "outputs": [
    {
     "data": {
      "text/plain": [
       "(50, 6)"
      ]
     },
     "execution_count": 109,
     "metadata": {},
     "output_type": "execute_result"
    }
   ],
   "source": [
    "df.shape"
   ]
  },
  {
   "cell_type": "markdown",
   "metadata": {},
   "source": [
    "a. The Average Day Consumption of the population is less than 100 GB. Marks (1+2+1)\n",
    "\n",
    "\n",
    "H0 : mu >= 100 -- Average Day Consumption is not less than 100 GB\n",
    "H1 : mu < 100 -- Average Day Consumption is less than 100 GB\n",
    "\n",
    "Left test tail -- alternative = 'less'"
   ]
  },
  {
   "cell_type": "code",
   "execution_count": 111,
   "metadata": {},
   "outputs": [
    {
     "data": {
      "text/plain": [
       "TtestResult(statistic=-6.258453293071129, pvalue=4.670375377620771e-08, df=49)"
      ]
     },
     "execution_count": 111,
     "metadata": {},
     "output_type": "execute_result"
    }
   ],
   "source": [
    "stats.ttest_1samp(a=df['Day_consumption'],popmean = 100,alternative='less')"
   ]
  },
  {
   "cell_type": "code",
   "execution_count": 117,
   "metadata": {},
   "outputs": [
    {
     "name": "stdout",
     "output_type": "stream",
     "text": [
      "Rejects H0,Average Day Consumption is less than 100 GB \n",
      "\n"
     ]
    }
   ],
   "source": [
    "p_value = stats.ttest_1samp(a=df['Day_consumption'],popmean = 100,alternative='less').pvalue\n",
    "\n",
    "if p_value < alpha :\n",
    "    \n",
    "    print('Rejects H0,Average Day Consumption is less than 100 GB','\\n')\n",
    "    \n",
    "else:\n",
    "    \n",
    "    print('Fails to reject H0,Average Day Consumption is not less than 100 GB','\\n')"
   ]
  },
  {
   "cell_type": "markdown",
   "metadata": {},
   "source": [
    "b. The average Night Consumption of the population is 110 GB. Marks (1+2+1)\n",
    "\n",
    "H0 : mu = 110 -- -- Average Night Consumption is 110 GB\n",
    "H1 : mu != 110 -- -- Average Night Consumption is not equal to 110 GB\n"
   ]
  },
  {
   "cell_type": "code",
   "execution_count": 118,
   "metadata": {},
   "outputs": [
    {
     "data": {
      "text/plain": [
       "TtestResult(statistic=1.398321565155283, pvalue=0.16831368635695665, df=49)"
      ]
     },
     "execution_count": 118,
     "metadata": {},
     "output_type": "execute_result"
    }
   ],
   "source": [
    "stats.ttest_1samp(a=df['Night_consumption'],popmean = 110,alternative='two-sided')"
   ]
  },
  {
   "cell_type": "code",
   "execution_count": 121,
   "metadata": {},
   "outputs": [],
   "source": [
    "p_value = stats.ttest_1samp(a=df['Night_consumption'],popmean = 110,alternative='two-sided').pvalue"
   ]
  },
  {
   "cell_type": "code",
   "execution_count": 122,
   "metadata": {
    "scrolled": true
   },
   "outputs": [
    {
     "name": "stdout",
     "output_type": "stream",
     "text": [
      "Fails to reject H0,Average Night Consumption is 110 GB \n",
      "\n"
     ]
    }
   ],
   "source": [
    "if p_value < alpha :\n",
    "    \n",
    "    print('Rejects H0,Average Night Consumption is not equal to 110 GB','\\n')\n",
    "    \n",
    "else:\n",
    "    \n",
    "    print('Fails to reject H0,Average Night Consumption is 110 GB','\\n')"
   ]
  },
  {
   "cell_type": "markdown",
   "metadata": {},
   "source": [
    "c. The cost for the internet Consumption with different internet provider is same. Marks (2+2+1)\n",
    "\n"
   ]
  },
  {
   "cell_type": "code",
   "execution_count": 123,
   "metadata": {
    "collapsed": true
   },
   "outputs": [
    {
     "data": {
      "text/plain": [
       "0     206.266107\n",
       "1     207.520351\n",
       "2     208.332631\n",
       "3     209.260910\n",
       "4     209.415102\n",
       "5     209.680797\n",
       "6     208.173338\n",
       "7     209.777093\n",
       "8     210.529132\n",
       "9     209.522249\n",
       "10    210.169332\n",
       "11    208.499919\n",
       "12    209.631582\n",
       "13    210.647832\n",
       "14    208.584167\n",
       "15    211.241572\n",
       "16    206.527564\n",
       "17    208.736640\n",
       "18    210.786141\n",
       "19    208.940882\n",
       "20    206.003794\n",
       "21    209.525955\n",
       "22    209.677077\n",
       "23    209.972507\n",
       "24    208.939129\n",
       "25    206.875748\n",
       "26    210.018723\n",
       "27    208.875039\n",
       "28    209.857290\n",
       "29    206.735575\n",
       "30    211.605803\n",
       "31    212.101390\n",
       "32    210.193715\n",
       "33    209.072720\n",
       "34    211.437610\n",
       "35    208.461035\n",
       "36    207.770697\n",
       "37    211.221449\n",
       "38    210.357278\n",
       "39    206.552988\n",
       "40    208.771212\n",
       "41    210.468572\n",
       "42    208.787669\n",
       "43    209.302301\n",
       "44    210.284089\n",
       "45    212.354969\n",
       "46    208.024332\n",
       "47    210.438536\n",
       "48    210.876491\n",
       "49    206.885769\n",
       "dtype: float64"
      ]
     },
     "execution_count": 123,
     "metadata": {},
     "output_type": "execute_result"
    }
   ],
   "source": [
    "Internet_Consumption = df['Day_consumption'] + df['Night_consumption']\n",
    "Internet_Consumption"
   ]
  },
  {
   "cell_type": "code",
   "execution_count": null,
   "metadata": {},
   "outputs": [],
   "source": []
  }
 ],
 "metadata": {
  "kernelspec": {
   "display_name": "Python 3 (ipykernel)",
   "language": "python",
   "name": "python3"
  },
  "language_info": {
   "codemirror_mode": {
    "name": "ipython",
    "version": 3
   },
   "file_extension": ".py",
   "mimetype": "text/x-python",
   "name": "python",
   "nbconvert_exporter": "python",
   "pygments_lexer": "ipython3",
   "version": "3.10.9"
  }
 },
 "nbformat": 4,
 "nbformat_minor": 4
}
