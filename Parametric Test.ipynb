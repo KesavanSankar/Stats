{
 "cells": [
  {
   "cell_type": "code",
   "execution_count": 1,
   "id": "8a05acea",
   "metadata": {},
   "outputs": [],
   "source": [
    "import seaborn as sns\n",
    "import pandas as pd\n",
    "import numpy as np\n",
    "import scipy.stats as stats"
   ]
  },
  {
   "cell_type": "code",
   "execution_count": 2,
   "id": "80199d87",
   "metadata": {
    "scrolled": true
   },
   "outputs": [
    {
     "data": {
      "text/html": [
       "<div>\n",
       "<style scoped>\n",
       "    .dataframe tbody tr th:only-of-type {\n",
       "        vertical-align: middle;\n",
       "    }\n",
       "\n",
       "    .dataframe tbody tr th {\n",
       "        vertical-align: top;\n",
       "    }\n",
       "\n",
       "    .dataframe thead th {\n",
       "        text-align: right;\n",
       "    }\n",
       "</style>\n",
       "<table border=\"1\" class=\"dataframe\">\n",
       "  <thead>\n",
       "    <tr style=\"text-align: right;\">\n",
       "      <th></th>\n",
       "      <th>survived</th>\n",
       "      <th>pclass</th>\n",
       "      <th>sex</th>\n",
       "      <th>age</th>\n",
       "      <th>sibsp</th>\n",
       "      <th>parch</th>\n",
       "      <th>fare</th>\n",
       "      <th>embarked</th>\n",
       "      <th>class</th>\n",
       "      <th>who</th>\n",
       "      <th>adult_male</th>\n",
       "      <th>deck</th>\n",
       "      <th>embark_town</th>\n",
       "      <th>alive</th>\n",
       "      <th>alone</th>\n",
       "    </tr>\n",
       "  </thead>\n",
       "  <tbody>\n",
       "    <tr>\n",
       "      <th>0</th>\n",
       "      <td>0</td>\n",
       "      <td>3</td>\n",
       "      <td>male</td>\n",
       "      <td>22.0</td>\n",
       "      <td>1</td>\n",
       "      <td>0</td>\n",
       "      <td>7.2500</td>\n",
       "      <td>S</td>\n",
       "      <td>Third</td>\n",
       "      <td>man</td>\n",
       "      <td>True</td>\n",
       "      <td>NaN</td>\n",
       "      <td>Southampton</td>\n",
       "      <td>no</td>\n",
       "      <td>False</td>\n",
       "    </tr>\n",
       "    <tr>\n",
       "      <th>1</th>\n",
       "      <td>1</td>\n",
       "      <td>1</td>\n",
       "      <td>female</td>\n",
       "      <td>38.0</td>\n",
       "      <td>1</td>\n",
       "      <td>0</td>\n",
       "      <td>71.2833</td>\n",
       "      <td>C</td>\n",
       "      <td>First</td>\n",
       "      <td>woman</td>\n",
       "      <td>False</td>\n",
       "      <td>C</td>\n",
       "      <td>Cherbourg</td>\n",
       "      <td>yes</td>\n",
       "      <td>False</td>\n",
       "    </tr>\n",
       "    <tr>\n",
       "      <th>2</th>\n",
       "      <td>1</td>\n",
       "      <td>3</td>\n",
       "      <td>female</td>\n",
       "      <td>26.0</td>\n",
       "      <td>0</td>\n",
       "      <td>0</td>\n",
       "      <td>7.9250</td>\n",
       "      <td>S</td>\n",
       "      <td>Third</td>\n",
       "      <td>woman</td>\n",
       "      <td>False</td>\n",
       "      <td>NaN</td>\n",
       "      <td>Southampton</td>\n",
       "      <td>yes</td>\n",
       "      <td>True</td>\n",
       "    </tr>\n",
       "    <tr>\n",
       "      <th>3</th>\n",
       "      <td>1</td>\n",
       "      <td>1</td>\n",
       "      <td>female</td>\n",
       "      <td>35.0</td>\n",
       "      <td>1</td>\n",
       "      <td>0</td>\n",
       "      <td>53.1000</td>\n",
       "      <td>S</td>\n",
       "      <td>First</td>\n",
       "      <td>woman</td>\n",
       "      <td>False</td>\n",
       "      <td>C</td>\n",
       "      <td>Southampton</td>\n",
       "      <td>yes</td>\n",
       "      <td>False</td>\n",
       "    </tr>\n",
       "    <tr>\n",
       "      <th>4</th>\n",
       "      <td>0</td>\n",
       "      <td>3</td>\n",
       "      <td>male</td>\n",
       "      <td>35.0</td>\n",
       "      <td>0</td>\n",
       "      <td>0</td>\n",
       "      <td>8.0500</td>\n",
       "      <td>S</td>\n",
       "      <td>Third</td>\n",
       "      <td>man</td>\n",
       "      <td>True</td>\n",
       "      <td>NaN</td>\n",
       "      <td>Southampton</td>\n",
       "      <td>no</td>\n",
       "      <td>True</td>\n",
       "    </tr>\n",
       "    <tr>\n",
       "      <th>...</th>\n",
       "      <td>...</td>\n",
       "      <td>...</td>\n",
       "      <td>...</td>\n",
       "      <td>...</td>\n",
       "      <td>...</td>\n",
       "      <td>...</td>\n",
       "      <td>...</td>\n",
       "      <td>...</td>\n",
       "      <td>...</td>\n",
       "      <td>...</td>\n",
       "      <td>...</td>\n",
       "      <td>...</td>\n",
       "      <td>...</td>\n",
       "      <td>...</td>\n",
       "      <td>...</td>\n",
       "    </tr>\n",
       "    <tr>\n",
       "      <th>886</th>\n",
       "      <td>0</td>\n",
       "      <td>2</td>\n",
       "      <td>male</td>\n",
       "      <td>27.0</td>\n",
       "      <td>0</td>\n",
       "      <td>0</td>\n",
       "      <td>13.0000</td>\n",
       "      <td>S</td>\n",
       "      <td>Second</td>\n",
       "      <td>man</td>\n",
       "      <td>True</td>\n",
       "      <td>NaN</td>\n",
       "      <td>Southampton</td>\n",
       "      <td>no</td>\n",
       "      <td>True</td>\n",
       "    </tr>\n",
       "    <tr>\n",
       "      <th>887</th>\n",
       "      <td>1</td>\n",
       "      <td>1</td>\n",
       "      <td>female</td>\n",
       "      <td>19.0</td>\n",
       "      <td>0</td>\n",
       "      <td>0</td>\n",
       "      <td>30.0000</td>\n",
       "      <td>S</td>\n",
       "      <td>First</td>\n",
       "      <td>woman</td>\n",
       "      <td>False</td>\n",
       "      <td>B</td>\n",
       "      <td>Southampton</td>\n",
       "      <td>yes</td>\n",
       "      <td>True</td>\n",
       "    </tr>\n",
       "    <tr>\n",
       "      <th>888</th>\n",
       "      <td>0</td>\n",
       "      <td>3</td>\n",
       "      <td>female</td>\n",
       "      <td>NaN</td>\n",
       "      <td>1</td>\n",
       "      <td>2</td>\n",
       "      <td>23.4500</td>\n",
       "      <td>S</td>\n",
       "      <td>Third</td>\n",
       "      <td>woman</td>\n",
       "      <td>False</td>\n",
       "      <td>NaN</td>\n",
       "      <td>Southampton</td>\n",
       "      <td>no</td>\n",
       "      <td>False</td>\n",
       "    </tr>\n",
       "    <tr>\n",
       "      <th>889</th>\n",
       "      <td>1</td>\n",
       "      <td>1</td>\n",
       "      <td>male</td>\n",
       "      <td>26.0</td>\n",
       "      <td>0</td>\n",
       "      <td>0</td>\n",
       "      <td>30.0000</td>\n",
       "      <td>C</td>\n",
       "      <td>First</td>\n",
       "      <td>man</td>\n",
       "      <td>True</td>\n",
       "      <td>C</td>\n",
       "      <td>Cherbourg</td>\n",
       "      <td>yes</td>\n",
       "      <td>True</td>\n",
       "    </tr>\n",
       "    <tr>\n",
       "      <th>890</th>\n",
       "      <td>0</td>\n",
       "      <td>3</td>\n",
       "      <td>male</td>\n",
       "      <td>32.0</td>\n",
       "      <td>0</td>\n",
       "      <td>0</td>\n",
       "      <td>7.7500</td>\n",
       "      <td>Q</td>\n",
       "      <td>Third</td>\n",
       "      <td>man</td>\n",
       "      <td>True</td>\n",
       "      <td>NaN</td>\n",
       "      <td>Queenstown</td>\n",
       "      <td>no</td>\n",
       "      <td>True</td>\n",
       "    </tr>\n",
       "  </tbody>\n",
       "</table>\n",
       "<p>891 rows × 15 columns</p>\n",
       "</div>"
      ],
      "text/plain": [
       "     survived  pclass     sex   age  sibsp  parch     fare embarked   class  \\\n",
       "0           0       3    male  22.0      1      0   7.2500        S   Third   \n",
       "1           1       1  female  38.0      1      0  71.2833        C   First   \n",
       "2           1       3  female  26.0      0      0   7.9250        S   Third   \n",
       "3           1       1  female  35.0      1      0  53.1000        S   First   \n",
       "4           0       3    male  35.0      0      0   8.0500        S   Third   \n",
       "..        ...     ...     ...   ...    ...    ...      ...      ...     ...   \n",
       "886         0       2    male  27.0      0      0  13.0000        S  Second   \n",
       "887         1       1  female  19.0      0      0  30.0000        S   First   \n",
       "888         0       3  female   NaN      1      2  23.4500        S   Third   \n",
       "889         1       1    male  26.0      0      0  30.0000        C   First   \n",
       "890         0       3    male  32.0      0      0   7.7500        Q   Third   \n",
       "\n",
       "       who  adult_male deck  embark_town alive  alone  \n",
       "0      man        True  NaN  Southampton    no  False  \n",
       "1    woman       False    C    Cherbourg   yes  False  \n",
       "2    woman       False  NaN  Southampton   yes   True  \n",
       "3    woman       False    C  Southampton   yes  False  \n",
       "4      man        True  NaN  Southampton    no   True  \n",
       "..     ...         ...  ...          ...   ...    ...  \n",
       "886    man        True  NaN  Southampton    no   True  \n",
       "887  woman       False    B  Southampton   yes   True  \n",
       "888  woman       False  NaN  Southampton    no  False  \n",
       "889    man        True    C    Cherbourg   yes   True  \n",
       "890    man        True  NaN   Queenstown    no   True  \n",
       "\n",
       "[891 rows x 15 columns]"
      ]
     },
     "execution_count": 2,
     "metadata": {},
     "output_type": "execute_result"
    }
   ],
   "source": [
    "df = sns.load_dataset('titanic')\n",
    "df"
   ]
  },
  {
   "cell_type": "code",
   "execution_count": 8,
   "id": "7938081e",
   "metadata": {},
   "outputs": [],
   "source": [
    "df_crosstab=pd.crosstab(df['sex'],df['class'],margins=True)"
   ]
  },
  {
   "cell_type": "code",
   "execution_count": 10,
   "id": "4cd23262",
   "metadata": {
    "scrolled": true
   },
   "outputs": [
    {
     "data": {
      "text/html": [
       "<div>\n",
       "<style scoped>\n",
       "    .dataframe tbody tr th:only-of-type {\n",
       "        vertical-align: middle;\n",
       "    }\n",
       "\n",
       "    .dataframe tbody tr th {\n",
       "        vertical-align: top;\n",
       "    }\n",
       "\n",
       "    .dataframe thead th {\n",
       "        text-align: right;\n",
       "    }\n",
       "</style>\n",
       "<table border=\"1\" class=\"dataframe\">\n",
       "  <thead>\n",
       "    <tr style=\"text-align: right;\">\n",
       "      <th>class</th>\n",
       "      <th>First</th>\n",
       "      <th>Second</th>\n",
       "      <th>Third</th>\n",
       "      <th>All</th>\n",
       "    </tr>\n",
       "    <tr>\n",
       "      <th>sex</th>\n",
       "      <th></th>\n",
       "      <th></th>\n",
       "      <th></th>\n",
       "      <th></th>\n",
       "    </tr>\n",
       "  </thead>\n",
       "  <tbody>\n",
       "    <tr>\n",
       "      <th>female</th>\n",
       "      <td>94</td>\n",
       "      <td>76</td>\n",
       "      <td>144</td>\n",
       "      <td>314</td>\n",
       "    </tr>\n",
       "    <tr>\n",
       "      <th>male</th>\n",
       "      <td>122</td>\n",
       "      <td>108</td>\n",
       "      <td>347</td>\n",
       "      <td>577</td>\n",
       "    </tr>\n",
       "    <tr>\n",
       "      <th>All</th>\n",
       "      <td>216</td>\n",
       "      <td>184</td>\n",
       "      <td>491</td>\n",
       "      <td>891</td>\n",
       "    </tr>\n",
       "  </tbody>\n",
       "</table>\n",
       "</div>"
      ],
      "text/plain": [
       "class   First  Second  Third  All\n",
       "sex                              \n",
       "female     94      76    144  314\n",
       "male      122     108    347  577\n",
       "All       216     184    491  891"
      ]
     },
     "execution_count": 10,
     "metadata": {},
     "output_type": "execute_result"
    }
   ],
   "source": [
    "df_crosstab"
   ]
  },
  {
   "cell_type": "code",
   "execution_count": 13,
   "id": "fa7c1ed0",
   "metadata": {},
   "outputs": [
    {
     "data": {
      "text/plain": [
       "Chi2ContingencyResult(statistic=16.971499095517114, pvalue=0.00020638864348233114, dof=2, expected_freq=array([[ 76.12121212,  64.84399551, 173.03479237],\n",
       "       [139.87878788, 119.15600449, 317.96520763]]))"
      ]
     },
     "execution_count": 13,
     "metadata": {},
     "output_type": "execute_result"
    }
   ],
   "source": [
    "stats.chi2_contingency(pd.crosstab(df['sex'],df['class']))"
   ]
  },
  {
   "cell_type": "code",
   "execution_count": 17,
   "id": "81cb596f",
   "metadata": {},
   "outputs": [],
   "source": [
    "p_value=stats.chi2.sf(16.971499095517114,df=2)"
   ]
  },
  {
   "cell_type": "code",
   "execution_count": 18,
   "id": "1ef3f2ed",
   "metadata": {},
   "outputs": [],
   "source": [
    "c_value=stats.chi2.isf(0.05,df = 2)"
   ]
  },
  {
   "cell_type": "code",
   "execution_count": 19,
   "id": "fa8fb82e",
   "metadata": {},
   "outputs": [
    {
     "name": "stdout",
     "output_type": "stream",
     "text": [
      "Since p_value is less than alpha,Reject H0 Conclusion :There is significance relationship between Sex And Class variables\n"
     ]
    }
   ],
   "source": [
    "alpha = 0.05\n",
    "if p_value < alpha:\n",
    "    print('Since p_value is less than alpha,Reject H0 Conclusion :There is significance relationship between Sex And Class variables')\n",
    "else :\n",
    "    print('There is no significance relationship between Sex And Class variables')"
   ]
  },
  {
   "cell_type": "markdown",
   "id": "f74a659e",
   "metadata": {},
   "source": [
    "This was our hypothesis\n",
    "* h0 : gender and class are independent/ there is no relation among gender and class\n",
    "* h1 : gender and class are dependent/ there is relation among gender and class\n",
    "\n",
    "since pval(0.0002) < sig_val, we reject H0, hence concluding that\n",
    "gender and class are dependent,there is a relation between gender and class, \n",
    "gender is an imp feature to predics class"
   ]
  },
  {
   "cell_type": "code",
   "execution_count": 3,
   "id": "0db96b3f",
   "metadata": {},
   "outputs": [],
   "source": [
    "df = df[['sex','age','fare','class']]"
   ]
  },
  {
   "cell_type": "code",
   "execution_count": 5,
   "id": "34d6e25a",
   "metadata": {
    "scrolled": true
   },
   "outputs": [
    {
     "data": {
      "text/plain": [
       "sex     age   fare      class \n",
       "male    30.0  13.0000   Second    3\n",
       "        23.0  13.0000   Second    3\n",
       "        32.0  7.9250    Third     3\n",
       "        19.0  7.8958    Third     3\n",
       "        34.0  13.0000   Second    3\n",
       "                                 ..\n",
       "female  45.0  164.8667  First     1\n",
       "        47.0  14.5000   Third     1\n",
       "              52.5542   First     1\n",
       "        48.0  25.9292   First     1\n",
       "male    80.0  30.0000   First     1\n",
       "Length: 659, dtype: int64"
      ]
     },
     "execution_count": 5,
     "metadata": {},
     "output_type": "execute_result"
    }
   ],
   "source": [
    "df.value_counts()"
   ]
  },
  {
   "cell_type": "code",
   "execution_count": 6,
   "id": "dd9c8a15",
   "metadata": {
    "collapsed": true
   },
   "outputs": [
    {
     "name": "stderr",
     "output_type": "stream",
     "text": [
      "C:\\Users\\K\\AppData\\Local\\Temp\\ipykernel_38332\\206247837.py:1: SettingWithCopyWarning: \n",
      "A value is trying to be set on a copy of a slice from a DataFrame.\n",
      "Try using .loc[row_indexer,col_indexer] = value instead\n",
      "\n",
      "See the caveats in the documentation: https://pandas.pydata.org/pandas-docs/stable/user_guide/indexing.html#returning-a-view-versus-a-copy\n",
      "  df['age']=df['age'].fillna(df['age'].median())\n"
     ]
    }
   ],
   "source": [
    "df['age']=df['age'].fillna(df['age'].median())"
   ]
  },
  {
   "cell_type": "code",
   "execution_count": 7,
   "id": "3be58d98",
   "metadata": {
    "collapsed": true
   },
   "outputs": [
    {
     "data": {
      "text/html": [
       "<div>\n",
       "<style scoped>\n",
       "    .dataframe tbody tr th:only-of-type {\n",
       "        vertical-align: middle;\n",
       "    }\n",
       "\n",
       "    .dataframe tbody tr th {\n",
       "        vertical-align: top;\n",
       "    }\n",
       "\n",
       "    .dataframe thead th {\n",
       "        text-align: right;\n",
       "    }\n",
       "</style>\n",
       "<table border=\"1\" class=\"dataframe\">\n",
       "  <thead>\n",
       "    <tr style=\"text-align: right;\">\n",
       "      <th></th>\n",
       "      <th>sex</th>\n",
       "      <th>age</th>\n",
       "      <th>fare</th>\n",
       "      <th>class</th>\n",
       "    </tr>\n",
       "  </thead>\n",
       "  <tbody>\n",
       "    <tr>\n",
       "      <th>0</th>\n",
       "      <td>male</td>\n",
       "      <td>22.0</td>\n",
       "      <td>7.2500</td>\n",
       "      <td>Third</td>\n",
       "    </tr>\n",
       "    <tr>\n",
       "      <th>1</th>\n",
       "      <td>female</td>\n",
       "      <td>38.0</td>\n",
       "      <td>71.2833</td>\n",
       "      <td>First</td>\n",
       "    </tr>\n",
       "    <tr>\n",
       "      <th>2</th>\n",
       "      <td>female</td>\n",
       "      <td>26.0</td>\n",
       "      <td>7.9250</td>\n",
       "      <td>Third</td>\n",
       "    </tr>\n",
       "    <tr>\n",
       "      <th>3</th>\n",
       "      <td>female</td>\n",
       "      <td>35.0</td>\n",
       "      <td>53.1000</td>\n",
       "      <td>First</td>\n",
       "    </tr>\n",
       "    <tr>\n",
       "      <th>4</th>\n",
       "      <td>male</td>\n",
       "      <td>35.0</td>\n",
       "      <td>8.0500</td>\n",
       "      <td>Third</td>\n",
       "    </tr>\n",
       "    <tr>\n",
       "      <th>...</th>\n",
       "      <td>...</td>\n",
       "      <td>...</td>\n",
       "      <td>...</td>\n",
       "      <td>...</td>\n",
       "    </tr>\n",
       "    <tr>\n",
       "      <th>886</th>\n",
       "      <td>male</td>\n",
       "      <td>27.0</td>\n",
       "      <td>13.0000</td>\n",
       "      <td>Second</td>\n",
       "    </tr>\n",
       "    <tr>\n",
       "      <th>887</th>\n",
       "      <td>female</td>\n",
       "      <td>19.0</td>\n",
       "      <td>30.0000</td>\n",
       "      <td>First</td>\n",
       "    </tr>\n",
       "    <tr>\n",
       "      <th>888</th>\n",
       "      <td>female</td>\n",
       "      <td>28.0</td>\n",
       "      <td>23.4500</td>\n",
       "      <td>Third</td>\n",
       "    </tr>\n",
       "    <tr>\n",
       "      <th>889</th>\n",
       "      <td>male</td>\n",
       "      <td>26.0</td>\n",
       "      <td>30.0000</td>\n",
       "      <td>First</td>\n",
       "    </tr>\n",
       "    <tr>\n",
       "      <th>890</th>\n",
       "      <td>male</td>\n",
       "      <td>32.0</td>\n",
       "      <td>7.7500</td>\n",
       "      <td>Third</td>\n",
       "    </tr>\n",
       "  </tbody>\n",
       "</table>\n",
       "<p>891 rows × 4 columns</p>\n",
       "</div>"
      ],
      "text/plain": [
       "        sex   age     fare   class\n",
       "0      male  22.0   7.2500   Third\n",
       "1    female  38.0  71.2833   First\n",
       "2    female  26.0   7.9250   Third\n",
       "3    female  35.0  53.1000   First\n",
       "4      male  35.0   8.0500   Third\n",
       "..      ...   ...      ...     ...\n",
       "886    male  27.0  13.0000  Second\n",
       "887  female  19.0  30.0000   First\n",
       "888  female  28.0  23.4500   Third\n",
       "889    male  26.0  30.0000   First\n",
       "890    male  32.0   7.7500   Third\n",
       "\n",
       "[891 rows x 4 columns]"
      ]
     },
     "execution_count": 7,
     "metadata": {},
     "output_type": "execute_result"
    }
   ],
   "source": [
    "df"
   ]
  },
  {
   "cell_type": "markdown",
   "id": "1c1f0fd7",
   "metadata": {},
   "source": [
    "# Continous vs Continous"
   ]
  },
  {
   "cell_type": "code",
   "execution_count": 8,
   "id": "ebca3605",
   "metadata": {
    "scrolled": true
   },
   "outputs": [
    {
     "data": {
      "text/html": [
       "<div>\n",
       "<style scoped>\n",
       "    .dataframe tbody tr th:only-of-type {\n",
       "        vertical-align: middle;\n",
       "    }\n",
       "\n",
       "    .dataframe tbody tr th {\n",
       "        vertical-align: top;\n",
       "    }\n",
       "\n",
       "    .dataframe thead th {\n",
       "        text-align: right;\n",
       "    }\n",
       "</style>\n",
       "<table border=\"1\" class=\"dataframe\">\n",
       "  <thead>\n",
       "    <tr style=\"text-align: right;\">\n",
       "      <th></th>\n",
       "      <th>sex</th>\n",
       "      <th>age</th>\n",
       "      <th>fare</th>\n",
       "      <th>class</th>\n",
       "    </tr>\n",
       "  </thead>\n",
       "  <tbody>\n",
       "    <tr>\n",
       "      <th>0</th>\n",
       "      <td>male</td>\n",
       "      <td>22.0</td>\n",
       "      <td>7.2500</td>\n",
       "      <td>Third</td>\n",
       "    </tr>\n",
       "    <tr>\n",
       "      <th>1</th>\n",
       "      <td>female</td>\n",
       "      <td>38.0</td>\n",
       "      <td>71.2833</td>\n",
       "      <td>First</td>\n",
       "    </tr>\n",
       "  </tbody>\n",
       "</table>\n",
       "</div>"
      ],
      "text/plain": [
       "      sex   age     fare  class\n",
       "0    male  22.0   7.2500  Third\n",
       "1  female  38.0  71.2833  First"
      ]
     },
     "execution_count": 8,
     "metadata": {},
     "output_type": "execute_result"
    }
   ],
   "source": [
    "df.head(2)"
   ]
  },
  {
   "cell_type": "markdown",
   "id": "fe2419e0",
   "metadata": {},
   "source": [
    "# Shapiro test "
   ]
  },
  {
   "cell_type": "code",
   "execution_count": null,
   "id": "d43a2bb0",
   "metadata": {},
   "outputs": [],
   "source": [
    "#we will consider age & Fare to perform this test because both are continous \n",
    "\n",
    "#since both are continous we will first check for parametric assumptions"
   ]
  },
  {
   "cell_type": "code",
   "execution_count": 9,
   "id": "e4e6a119",
   "metadata": {},
   "outputs": [],
   "source": [
    "# Hypothesis Formation\n",
    "# NUll : Data is Normal / skew = 0 \n",
    "# Altr : Data is Not Normal / skew != 0"
   ]
  },
  {
   "cell_type": "code",
   "execution_count": 11,
   "id": "b886c3ff",
   "metadata": {
    "scrolled": true
   },
   "outputs": [
    {
     "data": {
      "text/plain": [
       "ShapiroResult(statistic=0.5218917727470398, pvalue=1.0789998175301091e-43)"
      ]
     },
     "execution_count": 11,
     "metadata": {},
     "output_type": "execute_result"
    }
   ],
   "source": [
    "stats.shapiro(df['fare'])"
   ]
  },
  {
   "cell_type": "code",
   "execution_count": 12,
   "id": "5f7f2a20",
   "metadata": {
    "scrolled": true
   },
   "outputs": [
    {
     "data": {
      "text/plain": [
       "ShapiroResult(statistic=0.9541053175926208, pvalue=4.652422165814035e-16)"
      ]
     },
     "execution_count": 12,
     "metadata": {},
     "output_type": "execute_result"
    }
   ],
   "source": [
    "stats.shapiro(df['age'])"
   ]
  },
  {
   "cell_type": "code",
   "execution_count": null,
   "id": "d2a665ce",
   "metadata": {},
   "outputs": [],
   "source": [
    "# Since the p_values of age & fare both are less than sig_level(0.05) we reject\n",
    "# H0, concluding the data is not Normal."
   ]
  },
  {
   "cell_type": "code",
   "execution_count": 13,
   "id": "ce3a2233",
   "metadata": {},
   "outputs": [],
   "source": [
    "#Null : Data is having equal variance\n",
    "#Alt : Data is not having equal variance"
   ]
  },
  {
   "cell_type": "code",
   "execution_count": 14,
   "id": "4775bb91",
   "metadata": {},
   "outputs": [
    {
     "data": {
      "text/plain": [
       "LeveneResult(statistic=80.60519993028785, pvalue=6.833244558818894e-19)"
      ]
     },
     "execution_count": 14,
     "metadata": {},
     "output_type": "execute_result"
    }
   ],
   "source": [
    "stats.levene(df['fare'],df['age'])"
   ]
  },
  {
   "cell_type": "code",
   "execution_count": null,
   "id": "d0cf9cf9",
   "metadata": {},
   "outputs": [],
   "source": [
    "# Since the p_values is less than sig_level(0.05) we reject\n",
    "# H0, concluding the data is not having equal variance."
   ]
  },
  {
   "cell_type": "code",
   "execution_count": 15,
   "id": "4eeb365a",
   "metadata": {},
   "outputs": [],
   "source": [
    "#we assume data is normal and having equal variance and we are proceed to perform paramteric test "
   ]
  },
  {
   "cell_type": "markdown",
   "id": "0c8dd9ed",
   "metadata": {},
   "source": [
    "#Parametric Test "
   ]
  },
  {
   "cell_type": "code",
   "execution_count": 16,
   "id": "a491f6b0",
   "metadata": {},
   "outputs": [],
   "source": [
    "#Pearson R Correlation test"
   ]
  },
  {
   "cell_type": "code",
   "execution_count": 17,
   "id": "a8e93fd4",
   "metadata": {},
   "outputs": [
    {
     "data": {
      "text/plain": [
       "PearsonRResult(statistic=0.09668842218036511, pvalue=0.0038667538638672496)"
      ]
     },
     "execution_count": 17,
     "metadata": {},
     "output_type": "execute_result"
    }
   ],
   "source": [
    "#Null : Fare and age are independent\n",
    "#Alternate : Fare and age are dependent \n",
    "\n",
    "stats.pearsonr(df['age'],df['fare'])"
   ]
  },
  {
   "cell_type": "code",
   "execution_count": null,
   "id": "ccbdb973",
   "metadata": {},
   "outputs": [],
   "source": [
    "alpha = 0.05 \n",
    "\n",
    "#Since p_value(0.003) is less than significance_level(0.05) we reject H0 , \n",
    "#Concluding fare and age are dependent"
   ]
  },
  {
   "cell_type": "code",
   "execution_count": 18,
   "id": "a955774c",
   "metadata": {},
   "outputs": [],
   "source": [
    "#SPEARMEN R Correlation test "
   ]
  },
  {
   "cell_type": "code",
   "execution_count": 19,
   "id": "19930d35",
   "metadata": {
    "scrolled": true
   },
   "outputs": [
    {
     "data": {
      "text/plain": [
       "SignificanceResult(statistic=0.12600552124010062, pvalue=0.00016260974540267112)"
      ]
     },
     "execution_count": 19,
     "metadata": {},
     "output_type": "execute_result"
    }
   ],
   "source": [
    "#Null : Fare and age are independent\n",
    "#Alternate : Fare and age are dependent \n",
    "\n",
    "stats.spearmanr(df['age'],df['fare'])"
   ]
  },
  {
   "cell_type": "code",
   "execution_count": null,
   "id": "6fc1857d",
   "metadata": {},
   "outputs": [],
   "source": [
    "#since p_value(0.0001) is less than significance_level(0.05) we reject H0 ,\n",
    "#Concluding fare and age are dependent"
   ]
  },
  {
   "cell_type": "markdown",
   "id": "f06e2248",
   "metadata": {},
   "source": [
    "# Con vs Cat (= 2 sub groups)"
   ]
  },
  {
   "cell_type": "code",
   "execution_count": 25,
   "id": "f614341c",
   "metadata": {},
   "outputs": [],
   "source": [
    "#we will perform sex and fare to pefotm the test\n",
    "df['sex'].unique()\n",
    "\n",
    "male_fare=df[df['sex']=='male']['fare']\n",
    "\n",
    "female_fare=df[df['sex']=='female']['fare']"
   ]
  },
  {
   "cell_type": "code",
   "execution_count": 26,
   "id": "7ae346cc",
   "metadata": {},
   "outputs": [
    {
     "name": "stdout",
     "output_type": "stream",
     "text": [
      "ShapiroResult(statistic=0.43366360664367676, pvalue=5.159334317114255e-39)\n",
      "ShapiroResult(statistic=0.6361146569252014, pvalue=2.580287846596769e-25)\n"
     ]
    }
   ],
   "source": [
    "#Null : sex and fare are independent \n",
    "#Alternate : Sex and Fare are dependent \n",
    "\n",
    "\n",
    "print(stats.shapiro(male_fare))\n",
    "print(stats.shapiro(female_fare))\n",
    "\n",
    "# Since the p_values of age & fare both are less than sig_level(0.05) we reject\n",
    "# H0, concluding the data is not Normal."
   ]
  },
  {
   "cell_type": "code",
   "execution_count": 28,
   "id": "d78d5b32",
   "metadata": {},
   "outputs": [
    {
     "data": {
      "text/plain": [
       "LeveneResult(statistic=19.188225990910503, pvalue=1.3255194429754062e-05)"
      ]
     },
     "execution_count": 28,
     "metadata": {},
     "output_type": "execute_result"
    }
   ],
   "source": [
    "stats.levene(male_fare,female_fare)\n",
    "\n",
    "# Since the p_values of age & fare both are less than sig_level(0.05) we reject\n",
    "# H0, concluding the data is not equal variance."
   ]
  },
  {
   "cell_type": "markdown",
   "id": "6f80d6ea",
   "metadata": {},
   "source": [
    "# Parametric test"
   ]
  },
  {
   "cell_type": "code",
   "execution_count": 27,
   "id": "7b52e418",
   "metadata": {},
   "outputs": [
    {
     "data": {
      "text/plain": [
       "Ttest_indResult(statistic=-5.529140269385719, pvalue=4.2308678700429995e-08)"
      ]
     },
     "execution_count": 27,
     "metadata": {},
     "output_type": "execute_result"
    }
   ],
   "source": [
    "#2-Sample t-test\n",
    "\n",
    "#Null : Gender And Fare are independent \n",
    "#Alternate : Gender and Fare are dependent \n",
    "\n",
    "stats.ttest_ind(male_fare,female_fare)\n",
    "\n",
    "# Since the p_values of age & gender both are less than sig_level(0.05) we reject\n",
    "# H0, concluding the data is not Normal."
   ]
  },
  {
   "cell_type": "code",
   "execution_count": 29,
   "id": "e3d8e70f",
   "metadata": {},
   "outputs": [
    {
     "data": {
      "text/plain": [
       "MannwhitneyuResult(statistic=62175.0, pvalue=9.61232696290926e-15)"
      ]
     },
     "execution_count": 29,
     "metadata": {},
     "output_type": "execute_result"
    }
   ],
   "source": [
    "#Non-Parameteric test\n",
    "\n",
    "#Mannwhitney-U test\n",
    "\n",
    "#Null : gender and fare are independent\n",
    "#alternate : gender and fare are dependent \n",
    "\n",
    "\n",
    "stats.mannwhitneyu(male_fare,female_fare)\n",
    "\n",
    "# Since the p_values of age & gender both are less than sig_level(0.05) we reject\n",
    "# H0, concluding the data is not Normal."
   ]
  },
  {
   "cell_type": "code",
   "execution_count": 30,
   "id": "5a871c4a",
   "metadata": {},
   "outputs": [
    {
     "data": {
      "text/plain": [
       "F_onewayResult(statistic=30.57139211854278, pvalue=4.230867870041279e-08)"
      ]
     },
     "execution_count": 30,
     "metadata": {},
     "output_type": "execute_result"
    }
   ],
   "source": [
    "stats.f_oneway(male_fare,female_fare)\n"
   ]
  },
  {
   "cell_type": "code",
   "execution_count": 31,
   "id": "64bc0f60",
   "metadata": {},
   "outputs": [],
   "source": [
    "# Con vs cat (> 2 )\n",
    "\n",
    "#we will consider fare & class for this test"
   ]
  },
  {
   "cell_type": "markdown",
   "id": "66964eb6",
   "metadata": {},
   "source": [
    "# Shaprio test\n",
    "\n"
   ]
  },
  {
   "cell_type": "code",
   "execution_count": 35,
   "id": "8b43a192",
   "metadata": {},
   "outputs": [],
   "source": [
    "#Null : data are normal\n",
    "#Alternate : data are not normal\n",
    "\n",
    "df['class'].unique()\n",
    "\n",
    "First_class_fare=df[df['class']=='First']['fare']\n",
    "Second_class_fare=df[df['class']=='Second']['fare']\n",
    "Third_class_fare=df[df['class']=='Third']['fare']"
   ]
  },
  {
   "cell_type": "code",
   "execution_count": 38,
   "id": "68768d01",
   "metadata": {
    "scrolled": true
   },
   "outputs": [
    {
     "name": "stdout",
     "output_type": "stream",
     "text": [
      "ShapiroResult(statistic=0.7184011936187744, pvalue=7.556290242780962e-19)\n",
      "ShapiroResult(statistic=0.7785054445266724, pvalue=2.1134194129582328e-15)\n",
      "ShapiroResult(statistic=0.6183854341506958, pvalue=1.599492812175185e-31)\n"
     ]
    }
   ],
   "source": [
    "print(stats.shapiro(First_class_fare))\n",
    "print(stats.shapiro(Second_class_fare))\n",
    "print(stats.shapiro(Third_class_fare))\n",
    "\n",
    "#Since p_value is less than signifiance_level,Reject Ho concluding fare and class are independent"
   ]
  },
  {
   "cell_type": "markdown",
   "id": "74a7d6bd",
   "metadata": {},
   "source": [
    "# Levene Test"
   ]
  },
  {
   "cell_type": "code",
   "execution_count": 39,
   "id": "c24c298c",
   "metadata": {},
   "outputs": [
    {
     "name": "stdout",
     "output_type": "stream",
     "text": [
      "LeveneResult(statistic=118.57020037111805, pvalue=2.288618662046418e-46)\n"
     ]
    }
   ],
   "source": [
    "#Null : Data is having equal variance\n",
    "#Alt : Data is not having equal variance\n",
    "\n",
    "print(stats.levene(First_class_fare,Second_class_fare,Third_class_fare))\n",
    "\n",
    "#Since p_value is less than signifiance_level,Reject Ho concluding fare and class are\n",
    "# not having equal variance"
   ]
  },
  {
   "cell_type": "markdown",
   "id": "4c6fd852",
   "metadata": {},
   "source": [
    "# ANOVA"
   ]
  },
  {
   "cell_type": "code",
   "execution_count": 40,
   "id": "4e3ee4e5",
   "metadata": {
    "scrolled": true
   },
   "outputs": [
    {
     "data": {
      "text/plain": [
       "F_onewayResult(statistic=242.34415651744814, pvalue=1.0313763209141171e-84)"
      ]
     },
     "execution_count": 40,
     "metadata": {},
     "output_type": "execute_result"
    }
   ],
   "source": [
    "stats.f_oneway(First_class_fare,Second_class_fare,Third_class_fare)"
   ]
  },
  {
   "cell_type": "code",
   "execution_count": 41,
   "id": "a9218945",
   "metadata": {
    "scrolled": true
   },
   "outputs": [
    {
     "data": {
      "text/html": [
       "<table class=\"simpletable\">\n",
       "<caption>Multiple Comparison of Means - Tukey HSD, FWER=0.05</caption>\n",
       "<tr>\n",
       "  <th>group1</th> <th>group2</th> <th>meandiff</th> <th>p-adj</th>   <th>lower</th>    <th>upper</th>  <th>reject</th>\n",
       "</tr>\n",
       "<tr>\n",
       "   <td>First</td> <td>Second</td> <td>-63.4925</td>  <td>0.0</td>  <td>-72.9165</td> <td>-54.0685</td>  <td>True</td> \n",
       "</tr>\n",
       "<tr>\n",
       "   <td>First</td>  <td>Third</td> <td>-70.4791</td>  <td>0.0</td>  <td>-78.1489</td> <td>-62.8094</td>  <td>True</td> \n",
       "</tr>\n",
       "<tr>\n",
       "  <td>Second</td>  <td>Third</td>  <td>-6.9866</td> <td>0.108</td> <td>-15.1064</td>  <td>1.1331</td>   <td>False</td>\n",
       "</tr>\n",
       "</table>"
      ],
      "text/plain": [
       "<class 'statsmodels.iolib.table.SimpleTable'>"
      ]
     },
     "execution_count": 41,
     "metadata": {},
     "output_type": "execute_result"
    }
   ],
   "source": [
    "#Null : All the means are same\n",
    "#alternate : atleast of the means are not same \n",
    "\n",
    "import statsmodels.stats.multicomp as mc\n",
    "\n",
    "post_hoc = mc.MultiComparison(data=df['fare'],groups=df['class'])\n",
    "\n",
    "# tukey test\n",
    "tukey = post_hoc.tukeyhsd()\n",
    "tukey.summary()"
   ]
  },
  {
   "cell_type": "markdown",
   "id": "a9684442",
   "metadata": {},
   "source": [
    "# kruskal test"
   ]
  },
  {
   "cell_type": "code",
   "execution_count": 43,
   "id": "ca7c2cca",
   "metadata": {},
   "outputs": [
    {
     "data": {
      "text/plain": [
       "KruskalResult(statistic=438.0437034212556, pvalue=7.586096900646798e-96)"
      ]
     },
     "execution_count": 43,
     "metadata": {},
     "output_type": "execute_result"
    }
   ],
   "source": [
    "#Null : fare and class are independent \n",
    "# Alternate :fare and class are dependent\n",
    "\n",
    "stats.kruskal(First_class_fare,Second_class_fare,Third_class_fare)\n",
    "\n",
    "#Since p_value is less than signifiance_level,Reject Ho concluding fare and class are\n",
    "# dependent"
   ]
  }
 ],
 "metadata": {
  "kernelspec": {
   "display_name": "Python 3 (ipykernel)",
   "language": "python",
   "name": "python3"
  },
  "language_info": {
   "codemirror_mode": {
    "name": "ipython",
    "version": 3
   },
   "file_extension": ".py",
   "mimetype": "text/x-python",
   "name": "python",
   "nbconvert_exporter": "python",
   "pygments_lexer": "ipython3",
   "version": "3.10.9"
  }
 },
 "nbformat": 4,
 "nbformat_minor": 5
}
