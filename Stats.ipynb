{
 "cells": [
  {
   "cell_type": "code",
   "execution_count": 1,
   "id": "dc6e5771",
   "metadata": {},
   "outputs": [],
   "source": [
    "from scipy import stats"
   ]
  },
  {
   "cell_type": "markdown",
   "id": "6199fbe1",
   "metadata": {},
   "source": [
    "In a factory , 2 out 0f 25 are defective,Random sample of 10 bulbs are selected.\n",
    "1) What is the probability exactly three bulbs will be defective  in the sample"
   ]
  },
  {
   "cell_type": "code",
   "execution_count": 2,
   "id": "bbe152ef",
   "metadata": {},
   "outputs": [],
   "source": [
    "r=3 #random variable\n",
    "n=10 #Sample Size\n",
    "p=2/25 #Historic Probability"
   ]
  },
  {
   "cell_type": "code",
   "execution_count": 3,
   "id": "a5f3e69d",
   "metadata": {
    "scrolled": true
   },
   "outputs": [
    {
     "data": {
      "text/plain": [
       "0.03427409517996931"
      ]
     },
     "execution_count": 3,
     "metadata": {},
     "output_type": "execute_result"
    }
   ],
   "source": [
    "stats.binom.pmf(r,n,p)"
   ]
  },
  {
   "cell_type": "markdown",
   "id": "267b02d3",
   "metadata": {},
   "source": [
    "2) What is the probability exactly seven bulbs will be defective  in the sample"
   ]
  },
  {
   "cell_type": "code",
   "execution_count": 4,
   "id": "e1e72f38",
   "metadata": {},
   "outputs": [],
   "source": [
    "r=7 #random variable\n",
    "n=10 #Sample Size\n",
    "p=2/25 #Historic Probability"
   ]
  },
  {
   "cell_type": "code",
   "execution_count": 5,
   "id": "78227041",
   "metadata": {
    "scrolled": true
   },
   "outputs": [
    {
     "data": {
      "text/plain": [
       "1.9596325158911995e-06"
      ]
     },
     "execution_count": 5,
     "metadata": {},
     "output_type": "execute_result"
    }
   ],
   "source": [
    "stats.binom.pmf(r,n,p)"
   ]
  },
  {
   "cell_type": "markdown",
   "id": "5d45c49b",
   "metadata": {},
   "source": [
    "3) What is the probability atleast 3 bulbs are defective"
   ]
  },
  {
   "cell_type": "code",
   "execution_count": 10,
   "id": "37c75f21",
   "metadata": {},
   "outputs": [],
   "source": [
    "r=3 #random variable\n",
    "n=10 #Sample Size\n",
    "p=2/25 #Historic Probability"
   ]
  },
  {
   "cell_type": "code",
   "execution_count": 11,
   "id": "588b9274",
   "metadata": {},
   "outputs": [
    {
     "data": {
      "text/plain": [
       "0.9941986754964645"
      ]
     },
     "execution_count": 11,
     "metadata": {},
     "output_type": "execute_result"
    }
   ],
   "source": [
    "stats.binom.pmf(0,n,p)+stats.binom.pmf(1,n,p)+stats.binom.pmf(2,n,p)+stats.binom.pmf(3,n,p)"
   ]
  },
  {
   "cell_type": "code",
   "execution_count": 9,
   "id": "802b1f84",
   "metadata": {},
   "outputs": [
    {
     "data": {
      "text/plain": [
       "0.9941986754964645"
      ]
     },
     "execution_count": 9,
     "metadata": {},
     "output_type": "execute_result"
    }
   ],
   "source": [
    "r=[0,1,2,3]\n",
    "stats.binom.pmf(r,n,p).sum()"
   ]
  },
  {
   "cell_type": "code",
   "execution_count": 14,
   "id": "4781dd0b",
   "metadata": {},
   "outputs": [
    {
     "data": {
      "text/plain": [
       "0.9941986754964646"
      ]
     },
     "execution_count": 14,
     "metadata": {},
     "output_type": "execute_result"
    }
   ],
   "source": [
    "stats.binom.cdf(3,10,2/25) #Cumulative distrubutio"
   ]
  },
  {
   "cell_type": "markdown",
   "id": "d99303f5",
   "metadata": {},
   "source": [
    "4) What is the probability atleast 3 bulbs are defective"
   ]
  },
  {
   "cell_type": "code",
   "execution_count": 16,
   "id": "011afbbd",
   "metadata": {},
   "outputs": [
    {
     "data": {
      "text/plain": [
       "0.04007541968350481"
      ]
     },
     "execution_count": 16,
     "metadata": {},
     "output_type": "execute_result"
    }
   ],
   "source": [
    "1-stats.binom.cdf(3-1,10,2/25)"
   ]
  },
  {
   "cell_type": "markdown",
   "id": "0ce6c70f",
   "metadata": {},
   "source": [
    "5. Between 3 and 5"
   ]
  },
  {
   "cell_type": "code",
   "execution_count": 17,
   "id": "1a243d2f",
   "metadata": {},
   "outputs": [
    {
     "data": {
      "text/plain": [
       "0.04003395730000581"
      ]
     },
     "execution_count": 17,
     "metadata": {},
     "output_type": "execute_result"
    }
   ],
   "source": [
    "stats.binom.cdf(5,10,2/25)-stats.binom.cdf(3-1,10,2/25)"
   ]
  },
  {
   "cell_type": "markdown",
   "id": "682ed4b4",
   "metadata": {},
   "source": [
    "stats.norm.cdf() is inverse of stats.norm.sf() -- Survival function"
   ]
  },
  {
   "cell_type": "code",
   "execution_count": null,
   "id": "6d311bf8",
   "metadata": {},
   "outputs": [],
   "source": [
    "stats.norm.cdf()"
   ]
  }
 ],
 "metadata": {
  "kernelspec": {
   "display_name": "Python 3 (ipykernel)",
   "language": "python",
   "name": "python3"
  },
  "language_info": {
   "codemirror_mode": {
    "name": "ipython",
    "version": 3
   },
   "file_extension": ".py",
   "mimetype": "text/x-python",
   "name": "python",
   "nbconvert_exporter": "python",
   "pygments_lexer": "ipython3",
   "version": "3.10.9"
  }
 },
 "nbformat": 4,
 "nbformat_minor": 5
}
